{
 "cells": [
  {
   "cell_type": "markdown",
   "id": "1fe16a00",
   "metadata": {},
   "source": [
    "# Matrices and Determinants"
   ]
  },
  {
   "cell_type": "code",
   "execution_count": 106,
   "id": "619b768e",
   "metadata": {},
   "outputs": [],
   "source": [
    "import numpy as np"
   ]
  },
  {
   "cell_type": "markdown",
   "id": "9053bb70",
   "metadata": {},
   "source": [
    "# Matrix"
   ]
  },
  {
   "cell_type": "code",
   "execution_count": 107,
   "id": "5c5e6404",
   "metadata": {},
   "outputs": [
    {
     "name": "stdout",
     "output_type": "stream",
     "text": [
      "[[1 2 3]\n",
      " [4 5 6]\n",
      " [7 8 9]]\n",
      "[[1 4 3]\n",
      " [2 1 3]\n",
      " [2 1 1]]\n"
     ]
    }
   ],
   "source": [
    "matrix_1 = np.array([[1,2,3],[4,5,6],[7,8,9]])\n",
    "matrix_2 = np.array([[1,4,3],[2,1,3],[2,1,1]])\n",
    "# matrix_2 = np.array([[1,4,3,2],[2,1,1,3],[2,3,1,1]])\n",
    "# matrix_1 = np.array([[1,4],[2,1],[3,1]])\n",
    "# matrix_2 = np.full((2,3), 3)\n",
    "print(matrix_1)\n",
    "print(matrix_2)"
   ]
  },
  {
   "cell_type": "code",
   "execution_count": 108,
   "id": "952fe66a",
   "metadata": {},
   "outputs": [
    {
     "name": "stdout",
     "output_type": "stream",
     "text": [
      "[[-1 -2 -3]\n",
      " [-4 -5 -6]\n",
      " [-7 -8 -9]]\n",
      "[[-1 -4 -3]\n",
      " [-2 -1 -3]\n",
      " [-2 -1 -1]]\n"
     ]
    }
   ],
   "source": [
    "# [n]egitive [o]f [a] [m]atrix\n",
    "noam_1 = matrix_1 * -1\n",
    "noam_2 = matrix_2 * -1\n",
    "print(noam_1)\n",
    "print(noam_2)"
   ]
  },
  {
   "cell_type": "code",
   "execution_count": 109,
   "id": "1c296449",
   "metadata": {},
   "outputs": [
    {
     "name": "stdout",
     "output_type": "stream",
     "text": [
      "[[ 2  6  6]\n",
      " [ 6  6  9]\n",
      " [ 9  9 10]]\n"
     ]
    }
   ],
   "source": [
    "# [a]ddition [o]f [m]atrices\n",
    "aom = matrix_1 + matrix_2\n",
    "print(aom)"
   ]
  },
  {
   "cell_type": "code",
   "execution_count": 110,
   "id": "5b046d7c",
   "metadata": {},
   "outputs": [
    {
     "name": "stdout",
     "output_type": "stream",
     "text": [
      "[[ 0 -2  0]\n",
      " [ 2  4  3]\n",
      " [ 5  7  8]]\n"
     ]
    }
   ],
   "source": [
    "# [s]ubtraction [o]f [m]atrices\n",
    "som = matrix_1 - matrix_2\n",
    "print(som)"
   ]
  },
  {
   "cell_type": "code",
   "execution_count": 111,
   "id": "1d35b305",
   "metadata": {},
   "outputs": [
    {
     "name": "stdout",
     "output_type": "stream",
     "text": [
      "[[ 3  6  9]\n",
      " [12 15 18]\n",
      " [21 24 27]]\n",
      "[[ 3 12  9]\n",
      " [ 6  3  9]\n",
      " [ 6  3  3]]\n"
     ]
    }
   ],
   "source": [
    "# [m]ultiplication [o]f [a] [m]atrix [b]y [s]calar [n]umber\n",
    "sclar_num = 3\n",
    "moambsn_1 = matrix_1 * sclar_num\n",
    "moambsn_2 = matrix_2 * sclar_num\n",
    "print(moambsn_1)\n",
    "print(moambsn_2)"
   ]
  },
  {
   "cell_type": "code",
   "execution_count": 112,
   "id": "18d39e93",
   "metadata": {},
   "outputs": [
    {
     "name": "stdout",
     "output_type": "stream",
     "text": [
      "[[ 1  8  9]\n",
      " [ 8  5 18]\n",
      " [14  8  9]]\n"
     ]
    }
   ],
   "source": [
    "# [m]ultiplication [o]f [t]wo-D [a]rray\n",
    "# This is default multiplication, it's don't even follow the matrix rule, it's face to face multiplication of numpy arrays\n",
    "mota = matrix_1 * matrix_2\n",
    "print(mota)"
   ]
  },
  {
   "cell_type": "code",
   "execution_count": null,
   "id": "2bd9d965",
   "metadata": {},
   "outputs": [
    {
     "name": "stdout",
     "output_type": "stream",
     "text": [
      "[[11  9 12]\n",
      " [26 27 33]\n",
      " [41 45 54]]\n",
      "[[238 252 306]\n",
      " [171 180 219]\n",
      " [ 89  90 111]]\n"
     ]
    }
   ],
   "source": [
    "# [m]ultiplication [o]f [m]atrix\n",
    "def mom(matrix_a,matrix_b):\n",
    "    m3 = []\n",
    "    if matrix_a.shape[1] == matrix_b.shape[0]:\n",
    "        for i in matrix_a:\n",
    "            first_element = []\n",
    "            for j in range(matrix_b.shape[1]):\n",
    "                first_element.append((i * matrix_b[:,j]).sum())\n",
    "            m3.append(first_element)\n",
    "        return np.array(m3)\n",
    "    else:\n",
    "        raise AttributeError(f'Number of elments in COLUMNs of matix 1 ({matrix_a.shape[1]}) and Number of elements in ROWs of matix 2 ({matrix_b.shape[0]}) must be EQUAL')\n",
    "    \n",
    "print(mom(matrix_1,matrix_2))\n",
    "print(mom(mom(matrix_2,matrix_1), matrix_2)) # for three matrix you can do this also you can apply loop for more matrices to multiply "
   ]
  },
  {
   "cell_type": "code",
   "execution_count": 118,
   "id": "9426bfa4",
   "metadata": {},
   "outputs": [
    {
     "name": "stdout",
     "output_type": "stream",
     "text": [
      "[[1 4 7]\n",
      " [2 5 8]\n",
      " [3 6 9]]\n",
      "[[1 2 2]\n",
      " [4 1 1]\n",
      " [3 3 1]]\n"
     ]
    }
   ],
   "source": [
    "# [t]ranspose [o]f [m]atrix\n",
    "# luckly we have a built in numpy method for this\n",
    "tom_1 = matrix_1.transpose()\n",
    "tom_2 = matrix_2.transpose()\n",
    "print(tom_1)\n",
    "print(tom_2)"
   ]
  },
  {
   "cell_type": "code",
   "execution_count": null,
   "id": "febd8c99",
   "metadata": {},
   "outputs": [
    {
     "name": "stdout",
     "output_type": "stream",
     "text": [
      "[[ 4  2 -1]\n",
      " [ 2  5  3]\n",
      " [-1  3  6]]\n",
      "True\n",
      "False\n",
      "False\n"
     ]
    }
   ],
   "source": [
    "# check [s]ymmetric [m]atrix\n",
    "def is_sm(matrix):\n",
    "    if np.all(matrix.transpose() == matrix):\n",
    "        return True\n",
    "    else:\n",
    "        return False\n",
    "\n",
    "example_matrix = np.array([[4, 2, -1],[2, 5, 3],[-1, 3, 6]])\n",
    "print(example_matrix)\n",
    "print(is_sm(example_matrix))\n",
    "print(is_sm(matrix_1))\n",
    "print(is_sm(matrix_2))"
   ]
  },
  {
   "cell_type": "code",
   "execution_count": 125,
   "id": "701cc804",
   "metadata": {},
   "outputs": [
    {
     "name": "stdout",
     "output_type": "stream",
     "text": [
      "[[ 0  2 -3]\n",
      " [-2  0  4]\n",
      " [ 3 -4  0]]\n",
      "True\n",
      "False\n",
      "False\n"
     ]
    }
   ],
   "source": [
    "# check [s]kew [s]ymmetric [m]atrix\n",
    "def is_ssm(matrix):\n",
    "    if np.all(matrix.transpose() == matrix * -1):\n",
    "        return True\n",
    "    else:\n",
    "        return False\n",
    "\n",
    "example_matrix = np.array([[0,  2, -3],[-2, 0,  4],[3, -4,  0]])\n",
    "print(example_matrix)\n",
    "print(is_ssm(example_matrix))\n",
    "print(is_ssm(matrix_1))\n",
    "print(is_ssm(matrix_2))"
   ]
  },
  {
   "cell_type": "markdown",
   "id": "1ad67680",
   "metadata": {},
   "source": [
    "# Determinate comingsoon"
   ]
  },
  {
   "cell_type": "code",
   "execution_count": null,
   "id": "9ff9cc02",
   "metadata": {},
   "outputs": [],
   "source": []
  }
 ],
 "metadata": {
  "kernelspec": {
   "display_name": "base",
   "language": "python",
   "name": "python3"
  },
  "language_info": {
   "codemirror_mode": {
    "name": "ipython",
    "version": 3
   },
   "file_extension": ".py",
   "mimetype": "text/x-python",
   "name": "python",
   "nbconvert_exporter": "python",
   "pygments_lexer": "ipython3",
   "version": "3.12.7"
  }
 },
 "nbformat": 4,
 "nbformat_minor": 5
}
