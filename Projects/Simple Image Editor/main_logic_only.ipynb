{
 "cells": [
  {
   "cell_type": "code",
   "execution_count": 2,
   "id": "a6f3713c",
   "metadata": {},
   "outputs": [],
   "source": [
    "import numpy as np\n",
    "from PIL import Image"
   ]
  },
  {
   "cell_type": "code",
   "execution_count": 3,
   "id": "577e6601",
   "metadata": {},
   "outputs": [],
   "source": [
    "img = Image.open('img.jpg')\n",
    "img_arr = np.array(img)\n",
    "horizontal_filp = img_arr[:,::-1,:]\n",
    "vertical_flip = img_arr[::-1,:,:]\n",
    "greyscale = img_arr.mean(axis=2).astype(np.uint8)\n",
    "bnw = img_arr[:,:,0]\n",
    "invert = 255 - img_arr\n",
    "corpped = img_arr[:200,:200,:]\n",
    "rotated = np.flip(np.transpose(img_arr, (1,0,2)), axis=1)\n",
    "\n",
    "Image.fromarray(bnw).save('img_updated.jpg')"
   ]
  },
  {
   "cell_type": "code",
   "execution_count": 4,
   "id": "515a5483",
   "metadata": {},
   "outputs": [],
   "source": [
    "# logic is created and understand properly now the interface is remaining will do soon"
   ]
  }
 ],
 "metadata": {
  "kernelspec": {
   "display_name": "base",
   "language": "python",
   "name": "python3"
  },
  "language_info": {
   "codemirror_mode": {
    "name": "ipython",
    "version": 3
   },
   "file_extension": ".py",
   "mimetype": "text/x-python",
   "name": "python",
   "nbconvert_exporter": "python",
   "pygments_lexer": "ipython3",
   "version": "3.12.7"
  }
 },
 "nbformat": 4,
 "nbformat_minor": 5
}
