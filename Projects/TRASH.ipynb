{
 "cells": [
  {
   "cell_type": "code",
   "execution_count": 2,
   "id": "da9921bd",
   "metadata": {},
   "outputs": [],
   "source": [
    "import numpy as np"
   ]
  },
  {
   "cell_type": "code",
   "execution_count": 2,
   "id": "682d870b",
   "metadata": {},
   "outputs": [
    {
     "ename": "NameError",
     "evalue": "name 'np' is not defined",
     "output_type": "error",
     "traceback": [
      "\u001b[1;31m---------------------------------------------------------------------------\u001b[0m",
      "\u001b[1;31mNameError\u001b[0m                                 Traceback (most recent call last)",
      "Cell \u001b[1;32mIn[2], line 1\u001b[0m\n\u001b[1;32m----> 1\u001b[0m arr2D \u001b[38;5;241m=\u001b[39m np\u001b[38;5;241m.\u001b[39marray(\n\u001b[0;32m      2\u001b[0m     [\n\u001b[0;32m      3\u001b[0m         [\u001b[38;5;241m1\u001b[39m, \u001b[38;5;241m2\u001b[39m, \u001b[38;5;241m3\u001b[39m],\n\u001b[0;32m      4\u001b[0m         [\u001b[38;5;241m4\u001b[39m, \u001b[38;5;241m5\u001b[39m, \u001b[38;5;241m6\u001b[39m]\n\u001b[0;32m      5\u001b[0m     ]\n\u001b[0;32m      6\u001b[0m )\n\u001b[0;32m      8\u001b[0m arr3D \u001b[38;5;241m=\u001b[39m np\u001b[38;5;241m.\u001b[39marray(\n\u001b[0;32m      9\u001b[0m     [\n\u001b[0;32m     10\u001b[0m         [\n\u001b[1;32m   (...)\u001b[0m\n\u001b[0;32m     19\u001b[0m     ]\n\u001b[0;32m     20\u001b[0m )\n\u001b[0;32m     22\u001b[0m \u001b[38;5;66;03m# Output of arr2D.shape is (rows, columns)\u001b[39;00m\n\u001b[0;32m     23\u001b[0m \u001b[38;5;66;03m# Output of arr3D.shape is (depth, rows, columns)\u001b[39;00m\n",
      "\u001b[1;31mNameError\u001b[0m: name 'np' is not defined"
     ]
    }
   ],
   "source": [
    "arr2D = np.array(\n",
    "    [\n",
    "        [1, 2, 3],\n",
    "        [4, 5, 6]\n",
    "    ]\n",
    ")\n",
    "\n",
    "arr3D = np.array(\n",
    "    [\n",
    "        [\n",
    "            [1, 2, 3],\n",
    "            [4, 5, 6]\n",
    "        ],\n",
    "\n",
    "        [\n",
    "            [7, 8, 9],\n",
    "            [10, 11, 12]\n",
    "        ]\n",
    "    ]\n",
    ")\n",
    "\n",
    "# Output of arr2D.shape is (rows, columns)\n",
    "# Output of arr3D.shape is (depth, rows, columns)\n",
    "print(arr2D.shape) # Output: (2, 3)\n",
    "print(arr3D.shape) # Output: (2, 2, 3)"
   ]
  },
  {
   "cell_type": "code",
   "execution_count": null,
   "id": "8196ff63",
   "metadata": {},
   "outputs": [],
   "source": [
    "import numpy as np\n",
    "\n",
    "# playground = [\n",
    "#     [0,0,0],\n",
    "#     [0,0,0],\n",
    "#     [0,0,0]\n",
    "# ]\n",
    "\n",
    "playground = [\n",
    "    [' ',' ',' '],\n",
    "    [' ',' ',' '],\n",
    "    [' ',' ',' ']\n",
    "]\n",
    "game = np.array(playground, dtype=object)\n",
    "representation = f'''     0   1   2\n",
    "\n",
    "0    {game[0,0]} | {game[0,1]} | {game[0,2]}\n",
    "    ---+---+---\n",
    "1    {game[1,0]} | {game[1,1]} | {game[1,2]}\n",
    "    ---+---+---\n",
    "2    {game[2,0]} | {game[2,1]} | {game[2,2]}'''\n",
    "\n",
    "print(representation)\n",
    "# player1 = input('Enter name of player 1: ')\n",
    "# player2 = input('Enter name of player 2: ')\n",
    "player1 = 'a'\n",
    "player2 = 'b'\n",
    "\n",
    "def wincondition(player):\n",
    "    # Digonals\n",
    "    if game[0,0] == game[1,1] == game[2,2]:\n",
    "        return f'{player} WON!!'\n",
    "    if game[0,2] == game[1,1] == game[2,0]:\n",
    "        return f'{player} WON!!'\n",
    "    # Rows\n",
    "    if game[0,1] == game[0,1] == game[0,2]:\n",
    "        return f'{player} WON!!'\n",
    "    if game[1,0] == game[1,1] == game[1,2]:\n",
    "        return f'{player} WON!!'\n",
    "    if game[2,0] == game[2,1] == game[2,2]:\n",
    "        return f'{player} WON!!'\n",
    "    # columns\n",
    "    if game[0,0] == game[1,0] == game[2,0]:\n",
    "        return f'{player} WON!!'\n",
    "    if game[0,1] == game[1,1] == game[2,1]:\n",
    "        return f'{player} WON!!'\n",
    "    if game[0,2] == game[1,2] == game[2,2]:\n",
    "        return f'{player} WON!!'\n",
    "    \n",
    "\n",
    "while True:\n",
    "    user_input_1_for_row = int(input(f'{player1} Enter Row: '))\n",
    "    user_input_1_for_column = int(input(f'{player1} Enter Column: '))\n",
    "    game[user_input_1_for_row, user_input_1_for_column] = 'X'\n",
    "    representation = f'''     0   1   2\n",
    "\n",
    "0    {game[0,0]} | {game[0,1]} | {game[0,2]}\n",
    "    ---+---+---\n",
    "1    {game[1,0]} | {game[1,1]} | {game[1,2]}\n",
    "    ---+---+---\n",
    "2    {game[2,0]} | {game[2,1]} | {game[2,2]}'''\n",
    "    print(representation)\n",
    "    wincondition(player1)\n",
    "    user_input_2_for_row = int(input(f'{player2} Enter Row: '))\n",
    "    user_input_2_for_column = int(input(f'{player2} Enter Column: '))\n",
    "    game[user_input_2_for_row, user_input_2_for_column] = 'O'\n",
    "    representation = f'''     0   1   2\n",
    "\n",
    "0    {game[0,0]} | {game[0,1]} | {game[0,2]}\n",
    "    ---+---+---\n",
    "1    {game[1,0]} | {game[1,1]} | {game[1,2]}\n",
    "    ---+---+---\n",
    "2    {game[2,0]} | {game[2,1]} | {game[2,2]}'''\n",
    "    print(representation)\n",
    "    wincondition(player2)"
   ]
  },
  {
   "cell_type": "code",
   "execution_count": 1,
   "id": "b72f2bd5",
   "metadata": {},
   "outputs": [
    {
     "ename": "TypeError",
     "evalue": "'int' object is not subscriptable",
     "output_type": "error",
     "traceback": [
      "\u001b[1;31m---------------------------------------------------------------------------\u001b[0m",
      "\u001b[1;31mTypeError\u001b[0m                                 Traceback (most recent call last)",
      "Cell \u001b[1;32mIn[1], line 2\u001b[0m\n\u001b[0;32m      1\u001b[0m p \u001b[38;5;241m=\u001b[39m \u001b[38;5;241m45\u001b[39m\n\u001b[1;32m----> 2\u001b[0m \u001b[38;5;28mprint\u001b[39m(p[\u001b[38;5;241m0\u001b[39m])\n",
      "\u001b[1;31mTypeError\u001b[0m: 'int' object is not subscriptable"
     ]
    }
   ],
   "source": [
    "p = 45\n",
    "print(p[0])"
   ]
  },
  {
   "cell_type": "code",
   "execution_count": 8,
   "id": "b2bc2496",
   "metadata": {},
   "outputs": [
    {
     "name": "stdout",
     "output_type": "stream",
     "text": [
      "True [[1 2 3]\n",
      " [1 2 3]\n",
      " [1 2 3]]\n"
     ]
    }
   ],
   "source": [
    "a = np.array([[' ',' ',' '],[' ',' ',' '],[' ',' ',' ']], dtype=object)\n",
    "a = np.array([[1,2,3],[1,2,3],[1,2,3]], dtype=object)\n",
    "# print(a[0,:] == 1)\n",
    "if np.all(a != ' '):\n",
    "    print(True, a)"
   ]
  },
  {
   "cell_type": "code",
   "execution_count": null,
   "id": "35e69071",
   "metadata": {},
   "outputs": [],
   "source": [
    "\n"
   ]
  }
 ],
 "metadata": {
  "kernelspec": {
   "display_name": "base",
   "language": "python",
   "name": "python3"
  },
  "language_info": {
   "codemirror_mode": {
    "name": "ipython",
    "version": 3
   },
   "file_extension": ".py",
   "mimetype": "text/x-python",
   "name": "python",
   "nbconvert_exporter": "python",
   "pygments_lexer": "ipython3",
   "version": "3.12.7"
  }
 },
 "nbformat": 4,
 "nbformat_minor": 5
}
