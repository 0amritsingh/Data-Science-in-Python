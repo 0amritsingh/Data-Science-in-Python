{
 "cells": [
  {
   "cell_type": "markdown",
   "id": "a80ad6ea",
   "metadata": {},
   "source": [
    "# Dictionary\n",
    "#### Key Properties of Dictionaries:\n",
    " - Unordered (Python 3.6+ maintains insertion order).\n",
    " - Keys must be unique and immutable (e.g., strings, numbers, tuples).\n",
    " - Values can be mutable and of any type."
   ]
  },
  {
   "cell_type": "code",
   "execution_count": 1,
   "id": "dbb0f857",
   "metadata": {},
   "outputs": [],
   "source": [
    "# Empty dictionary\n",
    "d = {}"
   ]
  },
  {
   "cell_type": "code",
   "execution_count": 3,
   "id": "e08cfc4d",
   "metadata": {},
   "outputs": [
    {
     "data": {
      "text/plain": [
       "{'name': 'Amrit', 'age': 18, 'jobrole': 'SDE-I'}"
      ]
     },
     "execution_count": 3,
     "metadata": {},
     "output_type": "execute_result"
    }
   ],
   "source": [
    "# key value pairs in dict\n",
    "d = {\n",
    "    'name':'Amrit',\n",
    "    'age' : 18,\n",
    "    'jobrole':'SDE-I' \n",
    "}\n",
    "d"
   ]
  },
  {
   "cell_type": "code",
   "execution_count": 4,
   "id": "5d1089f0",
   "metadata": {},
   "outputs": [
    {
     "data": {
      "text/plain": [
       "'Amrit'"
      ]
     },
     "execution_count": 4,
     "metadata": {},
     "output_type": "execute_result"
    }
   ],
   "source": [
    "# printing values from keys\n",
    "d['name']"
   ]
  },
  {
   "cell_type": "code",
   "execution_count": 5,
   "id": "11081474",
   "metadata": {},
   "outputs": [
    {
     "ename": "KeyError",
     "evalue": "'Name'",
     "output_type": "error",
     "traceback": [
      "\u001b[1;31m---------------------------------------------------------------------------\u001b[0m",
      "\u001b[1;31mKeyError\u001b[0m                                  Traceback (most recent call last)",
      "Cell \u001b[1;32mIn[5], line 2\u001b[0m\n\u001b[0;32m      1\u001b[0m \u001b[38;5;66;03m# if we enter wrong/non-existing/invalid key we'll get error\u001b[39;00m\n\u001b[1;32m----> 2\u001b[0m d[\u001b[38;5;124m'\u001b[39m\u001b[38;5;124mName\u001b[39m\u001b[38;5;124m'\u001b[39m]\n",
      "\u001b[1;31mKeyError\u001b[0m: 'Name'"
     ]
    }
   ],
   "source": [
    "# if we enter wrong/non-existing/invalid key we'll get error\n",
    "d['Name']"
   ]
  },
  {
   "cell_type": "code",
   "execution_count": 6,
   "id": "6366cb0a",
   "metadata": {},
   "outputs": [
    {
     "data": {
      "text/plain": [
       "'Amrit'"
      ]
     },
     "execution_count": 6,
     "metadata": {},
     "output_type": "execute_result"
    }
   ],
   "source": [
    "# to counter we can use the following command i.e. get method\n",
    "d.get('name')"
   ]
  },
  {
   "cell_type": "code",
   "execution_count": null,
   "id": "bfebf42f",
   "metadata": {},
   "outputs": [],
   "source": [
    "# if we give it invalid key it won't throw error, if we print it will say none\n",
    "d.get('Name')"
   ]
  },
  {
   "cell_type": "code",
   "execution_count": 8,
   "id": "9c0a0aa8",
   "metadata": {},
   "outputs": [
    {
     "data": {
      "text/plain": [
       "{'name': 'John', 'age': 18, 'jobrole': 'SDE-I'}"
      ]
     },
     "execution_count": 8,
     "metadata": {},
     "output_type": "execute_result"
    }
   ],
   "source": [
    "# dict is mutable we can values from keys\n",
    "d['name'] = 'John'\n",
    "d"
   ]
  },
  {
   "cell_type": "markdown",
   "id": "2ff49fbf",
   "metadata": {},
   "source": [
    "---\n",
    "#### Dictionary Methods\n",
    "- keys\n",
    "- values\n",
    "- items\n",
    "- get(keys, default)\n",
    "- updat(dict2)\n",
    "- pop(key, default)\n",
    "- popitem()\n",
    "- setdefault(key, default)\n",
    "- clear()\n",
    "- copy()"
   ]
  },
  {
   "cell_type": "code",
   "execution_count": 9,
   "id": "61998645",
   "metadata": {},
   "outputs": [
    {
     "data": {
      "text/plain": [
       "dict_keys(['name', 'age', 'jobrole'])"
      ]
     },
     "execution_count": 9,
     "metadata": {},
     "output_type": "execute_result"
    }
   ],
   "source": [
    "d.keys()"
   ]
  },
  {
   "cell_type": "code",
   "execution_count": 10,
   "id": "fe4ef5ae",
   "metadata": {},
   "outputs": [
    {
     "data": {
      "text/plain": [
       "dict_values(['John', 18, 'SDE-I'])"
      ]
     },
     "execution_count": 10,
     "metadata": {},
     "output_type": "execute_result"
    }
   ],
   "source": [
    "d.values()"
   ]
  },
  {
   "cell_type": "code",
   "execution_count": 11,
   "id": "36f1f52f",
   "metadata": {},
   "outputs": [
    {
     "data": {
      "text/plain": [
       "dict_items([('name', 'John'), ('age', 18), ('jobrole', 'SDE-I')])"
      ]
     },
     "execution_count": 11,
     "metadata": {},
     "output_type": "execute_result"
    }
   ],
   "source": [
    "d.items()"
   ]
  },
  {
   "cell_type": "code",
   "execution_count": 12,
   "id": "3deb8e78",
   "metadata": {},
   "outputs": [],
   "source": [
    "d2 = {'language':'Python', 'salary':75000}\n"
   ]
  },
  {
   "cell_type": "code",
   "execution_count": 13,
   "id": "9cec8e80",
   "metadata": {},
   "outputs": [],
   "source": [
    "d.update(d2)"
   ]
  },
  {
   "cell_type": "code",
   "execution_count": 14,
   "id": "23518620",
   "metadata": {},
   "outputs": [
    {
     "data": {
      "text/plain": [
       "{'name': 'John',\n",
       " 'age': 18,\n",
       " 'jobrole': 'SDE-I',\n",
       " 'language': 'Python',\n",
       " 'salary': 75000}"
      ]
     },
     "execution_count": 14,
     "metadata": {},
     "output_type": "execute_result"
    }
   ],
   "source": [
    "d"
   ]
  },
  {
   "cell_type": "code",
   "execution_count": 15,
   "id": "0b5f4f06",
   "metadata": {},
   "outputs": [
    {
     "data": {
      "text/plain": [
       "18"
      ]
     },
     "execution_count": 15,
     "metadata": {},
     "output_type": "execute_result"
    }
   ],
   "source": [
    "d.pop('age')"
   ]
  },
  {
   "cell_type": "code",
   "execution_count": 16,
   "id": "14fa4fed",
   "metadata": {},
   "outputs": [
    {
     "data": {
      "text/plain": [
       "{'name': 'John', 'jobrole': 'SDE-I', 'language': 'Python', 'salary': 75000}"
      ]
     },
     "execution_count": 16,
     "metadata": {},
     "output_type": "execute_result"
    }
   ],
   "source": [
    "d"
   ]
  },
  {
   "cell_type": "code",
   "execution_count": null,
   "id": "f9206308",
   "metadata": {},
   "outputs": [
    {
     "data": {
      "text/plain": [
       "('salary', 75000)"
      ]
     },
     "execution_count": 18,
     "metadata": {},
     "output_type": "execute_result"
    }
   ],
   "source": [
    "# in above as you can see pop takes key as argument, return the value and pops the key-value pair from dict\n",
    "\n",
    "d.popitem() # this return tuple of key-value pair and remove the last key-value pair"
   ]
  },
  {
   "cell_type": "code",
   "execution_count": 19,
   "id": "899a0460",
   "metadata": {},
   "outputs": [
    {
     "data": {
      "text/plain": [
       "{'name': 'John', 'jobrole': 'SDE-I', 'language': 'Python'}"
      ]
     },
     "execution_count": 19,
     "metadata": {},
     "output_type": "execute_result"
    }
   ],
   "source": [
    "d\n"
   ]
  },
  {
   "cell_type": "code",
   "execution_count": 20,
   "id": "78e984f0",
   "metadata": {},
   "outputs": [
    {
     "data": {
      "text/plain": [
       "'SDE-I'"
      ]
     },
     "execution_count": 20,
     "metadata": {},
     "output_type": "execute_result"
    }
   ],
   "source": [
    "d.setdefault('jobrole') # this is set the value as default"
   ]
  },
  {
   "cell_type": "code",
   "execution_count": 21,
   "id": "897c010a",
   "metadata": {},
   "outputs": [
    {
     "data": {
      "text/plain": [
       "{'name': 'John', 'jobrole': 'SDE-I', 'language': 'Python'}"
      ]
     },
     "execution_count": 21,
     "metadata": {},
     "output_type": "execute_result"
    }
   ],
   "source": [
    "d"
   ]
  },
  {
   "cell_type": "code",
   "execution_count": 22,
   "id": "2127c24a",
   "metadata": {},
   "outputs": [],
   "source": [
    "# clear() and copy() by the name, clear we remove all the key-value pairs and copy will duplicate dict and can use by storing it in another variable"
   ]
  },
  {
   "cell_type": "code",
   "execution_count": 23,
   "id": "48a714c9",
   "metadata": {},
   "outputs": [
    {
     "name": "stdout",
     "output_type": "stream",
     "text": [
      "{1: 1, 2: 4, 3: 9, 4: 16, 5: 25}\n"
     ]
    }
   ],
   "source": [
    "# Creating a dictionary using comprehension\n",
    "squares = {x: x**2 for x in range(1, 6)}\n",
    "print(squares)  # {1: 1, 2: 4, 3: 9, 4: 16, 5: 25}"
   ]
  },
  {
   "cell_type": "code",
   "execution_count": 25,
   "id": "650d8bf4",
   "metadata": {},
   "outputs": [
    {
     "name": "stdout",
     "output_type": "stream",
     "text": [
      "{2: 2, 4: 4, 6: 6, 8: 8, 10: 10}\n"
     ]
    }
   ],
   "source": [
    "even = {i: i for i in range(1,11) if i%2==0}\n",
    "print(even)"
   ]
  }
 ],
 "metadata": {
  "kernelspec": {
   "display_name": "base",
   "language": "python",
   "name": "python3"
  },
  "language_info": {
   "codemirror_mode": {
    "name": "ipython",
    "version": 3
   },
   "file_extension": ".py",
   "mimetype": "text/x-python",
   "name": "python",
   "nbconvert_exporter": "python",
   "pygments_lexer": "ipython3",
   "version": "3.12.7"
  }
 },
 "nbformat": 4,
 "nbformat_minor": 5
}
