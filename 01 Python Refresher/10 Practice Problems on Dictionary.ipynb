{
 "cells": [
  {
   "cell_type": "markdown",
   "id": "56e4d7df",
   "metadata": {},
   "source": [
    "#### **Problem 1**\n",
    "Store follwing word meanings in a python dictionary:\n",
    " - **table:** 'a piece of furniture', 'list of facts and figures'\n",
    " - **cat:** 'a small animal'"
   ]
  },
  {
   "cell_type": "code",
   "execution_count": 22,
   "id": "cbc5e44a",
   "metadata": {},
   "outputs": [
    {
     "name": "stdout",
     "output_type": "stream",
     "text": [
      "{'table': ['a piece of furniture', 'list of facts and figures'], 'cat': ['a small animal']}\n"
     ]
    }
   ],
   "source": [
    "word_meaning = {\n",
    "    'table': ['a piece of furniture', 'list of facts and figures'],\n",
    "    'cat': ['a small animal']\n",
    "}\n",
    "print(word_meaning)"
   ]
  },
  {
   "cell_type": "markdown",
   "id": "21a122b5",
   "metadata": {},
   "source": [
    "#### **Problem 2**\n",
    "You are given a list of subjects for students. Assume one classroom is required for 1 subject. How many classs rooms are needed by all sutdents.\n",
    "- 'python', 'java', 'c++', 'python', 'javascript', 'java', 'python', 'java', 'c++', 'c'\n",
    "\n",
    "Also make a dictionary comprehinsion for key-value pair of subject : {no. of classrooms, ...} "
   ]
  },
  {
   "cell_type": "code",
   "execution_count": 23,
   "id": "aed703d6",
   "metadata": {},
   "outputs": [
    {
     "name": "stdout",
     "output_type": "stream",
     "text": [
      "5\n",
      "{'python': 3, 'java': 3, 'c++': 2, 'javascript': 1, 'c': 1}\n"
     ]
    }
   ],
   "source": [
    "set_of_subjects = {'python', 'java', 'c++', 'python', 'javascript', 'java', 'python', 'java', 'c++', 'c'}\n",
    "no_of_classrooms = len(set_of_subjects)\n",
    "print(no_of_classrooms)\n",
    "\n",
    "subjects = ['python', 'java', 'c++', 'python', 'javascript', 'java', 'python', 'java', 'c++', 'c']\n",
    "class_rooms = {i: subjects.count(i) for i in subjects}\n",
    "print(class_rooms)"
   ]
  },
  {
   "cell_type": "markdown",
   "id": "0f18abd6",
   "metadata": {},
   "source": [
    "#### **Problem 3**\n",
    "WAP to enter marks of 3 subjects from the user and store them in a dictionary. Start with an empty dictionay and add one by one. Use subject name as key and marks as values."
   ]
  },
  {
   "cell_type": "code",
   "execution_count": 24,
   "id": "a28d67c4",
   "metadata": {},
   "outputs": [
    {
     "name": "stdout",
     "output_type": "stream",
     "text": [
      "{'Physics': 78, 'Chemistry': 98, 'Mathsmetics': 84}\n"
     ]
    }
   ],
   "source": [
    "mrk = {}\n",
    "x = int(input('Enter marks of Physics: '))\n",
    "mrk.update({'Physics': x})\n",
    "y = int(input('Enter marks of Chemistry: '))\n",
    "mrk.update({'Chemistry': y})\n",
    "z = int(input('Enter marks of Mathsmetics: '))\n",
    "mrk.update({'Mathsmetics': z})\n",
    "print(mrk)"
   ]
  },
  {
   "cell_type": "markdown",
   "id": "e434a53b",
   "metadata": {},
   "source": [
    "#### **Problem 4**\n",
    "Figure out a way to store 9 and 9.0 as separeate values in the set. (You cna take help of built-in data type)"
   ]
  },
  {
   "cell_type": "code",
   "execution_count": 25,
   "id": "10c6c1d2",
   "metadata": {},
   "outputs": [
    {
     "data": {
      "text/plain": [
       "{9, '9.0'}"
      ]
     },
     "execution_count": 25,
     "metadata": {},
     "output_type": "execute_result"
    }
   ],
   "source": [
    "s = {9, '9.0'}\n",
    "s"
   ]
  }
 ],
 "metadata": {
  "kernelspec": {
   "display_name": "base",
   "language": "python",
   "name": "python3"
  },
  "language_info": {
   "codemirror_mode": {
    "name": "ipython",
    "version": 3
   },
   "file_extension": ".py",
   "mimetype": "text/x-python",
   "name": "python",
   "nbconvert_exporter": "python",
   "pygments_lexer": "ipython3",
   "version": "3.12.7"
  }
 },
 "nbformat": 4,
 "nbformat_minor": 5
}
