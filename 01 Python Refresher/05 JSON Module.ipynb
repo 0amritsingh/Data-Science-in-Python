{
 "cells": [
  {
   "cell_type": "markdown",
   "id": "4d406442",
   "metadata": {},
   "source": [
    "# JSON module\n",
    "JSON (JavaScript Object Notation) is a lightweight data format used for data exchange between servers and applications. It is widely used in APIs, web applications, and configurations."
   ]
  },
  {
   "cell_type": "code",
   "execution_count": 1,
   "id": "3c80956b",
   "metadata": {},
   "outputs": [],
   "source": [
    "import json"
   ]
  },
  {
   "cell_type": "markdown",
   "id": "f7eeca17",
   "metadata": {},
   "source": [
    "#### JSON Methods\n",
    "|Method                     | Description                           |\n",
    "|---------------------------|---------------------------------------|\n",
    "|`json.dumps(obj)`\t        | Converts Python object to JSON string\t|\n",
    "|`json.dump(obj, file)`\t    | Writes JSON to a file\t                |\n",
    "|`json.loads(json_string)`\t| Converts JSON string to Python object\t|\n",
    "|`json.load(file)`\t        | Reads JSON from a file\t            |"
   ]
  },
  {
   "cell_type": "code",
   "execution_count": 2,
   "id": "a34e1c75",
   "metadata": {},
   "outputs": [],
   "source": [
    "pyobj = {\n",
    "    'name':'amrit',\n",
    "    'age':18,\n",
    "    'company':'meta',\n",
    "    'salary':100000\n",
    "}"
   ]
  },
  {
   "cell_type": "code",
   "execution_count": 5,
   "id": "c676b373",
   "metadata": {},
   "outputs": [
    {
     "data": {
      "text/plain": [
       "'{\"name\": \"amrit\", \"age\": 18, \"company\": \"meta\", \"salary\": 100000}'"
      ]
     },
     "execution_count": 5,
     "metadata": {},
     "output_type": "execute_result"
    }
   ],
   "source": [
    "jsonstr = json.dumps(pyobj)\n",
    "jsonstr"
   ]
  },
  {
   "cell_type": "code",
   "execution_count": 7,
   "id": "212bfcc1",
   "metadata": {},
   "outputs": [
    {
     "data": {
      "text/plain": [
       "{'name': 'amrit', 'age': 18, 'company': 'meta', 'salary': 100000}"
      ]
     },
     "execution_count": 7,
     "metadata": {},
     "output_type": "execute_result"
    }
   ],
   "source": [
    "converted_pyobj = json.loads(jsonstr)\n",
    "converted_pyobj"
   ]
  },
  {
   "cell_type": "code",
   "execution_count": 9,
   "id": "a0334114",
   "metadata": {},
   "outputs": [],
   "source": [
    "with open('data.json', 'w') as file:\n",
    "    json.dump(pyobj, file)"
   ]
  },
  {
   "cell_type": "code",
   "execution_count": 13,
   "id": "2ab820b8",
   "metadata": {},
   "outputs": [
    {
     "name": "stdout",
     "output_type": "stream",
     "text": [
      "{'name': 'amrit', 'age': 18, 'company': 'meta', 'salary': 100000}\n"
     ]
    }
   ],
   "source": [
    "with open('data.json', 'r') as file:\n",
    "    content = json.load(file)\n",
    "    print(content)"
   ]
  },
  {
   "cell_type": "markdown",
   "id": "80552538",
   "metadata": {},
   "source": [
    "#### Formatting JSON Output\n",
    "You can format JSON for better readability using indentation."
   ]
  },
  {
   "cell_type": "code",
   "execution_count": 18,
   "id": "d8bdd332",
   "metadata": {},
   "outputs": [
    {
     "data": {
      "text/plain": [
       "'{\\n    \"name\": \"amrit\",\\n    \"age\": 18,\\n    \"company\": \"meta\",\\n    \"salary\": 100000\\n}'"
      ]
     },
     "execution_count": 18,
     "metadata": {},
     "output_type": "execute_result"
    }
   ],
   "source": [
    "formatted_json = json.dumps(pyobj, indent=4)\n",
    "formatted_json"
   ]
  }
 ],
 "metadata": {
  "kernelspec": {
   "display_name": "base",
   "language": "python",
   "name": "python3"
  },
  "language_info": {
   "codemirror_mode": {
    "name": "ipython",
    "version": 3
   },
   "file_extension": ".py",
   "mimetype": "text/x-python",
   "name": "python",
   "nbconvert_exporter": "python",
   "pygments_lexer": "ipython3",
   "version": "3.12.7"
  }
 },
 "nbformat": 4,
 "nbformat_minor": 5
}
