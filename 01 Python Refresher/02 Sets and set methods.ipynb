{
 "cells": [
  {
   "cell_type": "markdown",
   "id": "d2aba847-c1c5-4afc-8859-1b072b31557e",
   "metadata": {},
   "source": [
    "## SETS\n",
    "#### Key Properties of Sets:\n",
    "- **Unordered**: No indexing or slicing.\n",
    "- **Unique Elements**: Duplicates are automatically removed.\n",
    "- Mutable: You can add or remove elements.\n"
   ]
  },
  {
   "cell_type": "code",
   "execution_count": 3,
   "id": "487bd592-dbd7-4356-8676-f5b76f0cd5f3",
   "metadata": {},
   "outputs": [],
   "source": [
    "a = set() # this is an empty set"
   ]
  },
  {
   "cell_type": "code",
   "execution_count": 5,
   "id": "8c3b8bc7-501b-4262-9f67-66a765ca139c",
   "metadata": {},
   "outputs": [
    {
     "data": {
      "text/plain": [
       "set"
      ]
     },
     "execution_count": 5,
     "metadata": {},
     "output_type": "execute_result"
    }
   ],
   "source": [
    "type(a)"
   ]
  },
  {
   "cell_type": "code",
   "execution_count": 7,
   "id": "68ff548e-1c07-42de-9ad7-8f4ddc92972d",
   "metadata": {},
   "outputs": [
    {
     "data": {
      "text/plain": [
       "{2, 3, 4, 12, 34, 112}"
      ]
     },
     "execution_count": 7,
     "metadata": {},
     "output_type": "execute_result"
    }
   ],
   "source": [
    "a = {2, 4, 12 ,34,2,112,3}\n",
    "a"
   ]
  },
  {
   "cell_type": "code",
   "execution_count": 11,
   "id": "79a65cfb-89ab-42b7-ac41-c28a86ea5a88",
   "metadata": {},
   "outputs": [],
   "source": [
    "# as you saw in above satatement it doesn't duplitcate vlaues - its UNIQUE"
   ]
  },
  {
   "cell_type": "code",
   "execution_count": 23,
   "id": "28e38131-1e38-4d5d-b1db-1d2195d3bdab",
   "metadata": {},
   "outputs": [
    {
     "name": "stdout",
     "output_type": "stream",
     "text": [
      "{1, 2, 3, 4}\n",
      "[1, 2, 3, 4]\n"
     ]
    }
   ],
   "source": [
    "# If i want to find unique items in a list I can do this (imp.): \n",
    "lst = [3, 4, 3, 2, 1, 1]\n",
    "unique_items = set(lst)\n",
    "# printing results: \n",
    "print(unique_items)\n",
    "# or\n",
    "print(list(unique_items))"
   ]
  },
  {
   "cell_type": "markdown",
   "id": "8b76d184-c206-4a47-8e08-6286ac570091",
   "metadata": {},
   "source": [
    "---\n",
    "#### Set methods that you must know\n",
    "- add\n",
    "- update\n",
    "- remove(error) / discard(none)\n",
    "- pop\n",
    "- clear\n",
    "- copy"
   ]
  },
  {
   "cell_type": "code",
   "execution_count": 79,
   "id": "f7591463-934e-418b-a23b-cb5d36c3fbd9",
   "metadata": {},
   "outputs": [],
   "source": [
    "sett = {3, 34,64,2,35,82,97}"
   ]
  },
  {
   "cell_type": "code",
   "execution_count": 35,
   "id": "0838b8f6-67a3-41a8-8712-ef6ec4819cdd",
   "metadata": {},
   "outputs": [
    {
     "data": {
      "text/plain": [
       "{2, 3, 4, 34, 35, 64, 82, 97}"
      ]
     },
     "execution_count": 35,
     "metadata": {},
     "output_type": "execute_result"
    }
   ],
   "source": [
    "sett.add(4)\n",
    "sett"
   ]
  },
  {
   "cell_type": "code",
   "execution_count": 39,
   "id": "59574cb7-d58e-42ac-856b-76e1ae8f65ec",
   "metadata": {},
   "outputs": [
    {
     "data": {
      "text/plain": [
       "{2, 3, 4, 34, 35, 53, 64, 82, 94, 97}"
      ]
     },
     "execution_count": 39,
     "metadata": {},
     "output_type": "execute_result"
    }
   ],
   "source": [
    "sett.update([53, 94,3,4]) # of course 3 and 4 will not update\n",
    "sett"
   ]
  },
  {
   "cell_type": "code",
   "execution_count": 57,
   "id": "092a8686-ad70-40a5-af2e-4752bfec7ae3",
   "metadata": {},
   "outputs": [
    {
     "data": {
      "text/plain": [
       "{35, 53, 64, 82, 94, 97}"
      ]
     },
     "execution_count": 57,
     "metadata": {},
     "output_type": "execute_result"
    }
   ],
   "source": [
    "sett.remove(4)\n",
    "sett"
   ]
  },
  {
   "cell_type": "code",
   "execution_count": 63,
   "id": "6a8941a8-0d70-44fe-895f-283d0ed8cb21",
   "metadata": {},
   "outputs": [
    {
     "ename": "KeyError",
     "evalue": "99",
     "output_type": "error",
     "traceback": [
      "\u001b[1;31m---------------------------------------------------------------------------\u001b[0m",
      "\u001b[1;31mKeyError\u001b[0m                                  Traceback (most recent call last)",
      "Cell \u001b[1;32mIn[63], line 2\u001b[0m\n\u001b[0;32m      1\u001b[0m \u001b[38;5;66;03m# remove throw error if given value not found in set\u001b[39;00m\n\u001b[1;32m----> 2\u001b[0m sett\u001b[38;5;241m.\u001b[39mremove(\u001b[38;5;241m99\u001b[39m)\n\u001b[0;32m      3\u001b[0m sett\n",
      "\u001b[1;31mKeyError\u001b[0m: 99"
     ]
    }
   ],
   "source": [
    "# remove throw error if given value not found in set\n",
    "sett.remove(99)\n",
    "sett"
   ]
  },
  {
   "cell_type": "code",
   "execution_count": 61,
   "id": "ec11296d-160f-490a-86e8-ac9f48d54853",
   "metadata": {},
   "outputs": [
    {
     "data": {
      "text/plain": [
       "{53, 64, 82, 94, 97}"
      ]
     },
     "execution_count": 61,
     "metadata": {},
     "output_type": "execute_result"
    }
   ],
   "source": [
    "sett.discard(35)\n",
    "sett"
   ]
  },
  {
   "cell_type": "code",
   "execution_count": 65,
   "id": "1a94e7ff-3d7c-49ba-b401-24173aa22f96",
   "metadata": {},
   "outputs": [
    {
     "data": {
      "text/plain": [
       "{53, 64, 82, 94, 97}"
      ]
     },
     "execution_count": 65,
     "metadata": {},
     "output_type": "execute_result"
    }
   ],
   "source": [
    "# discard will not thorow error if given value not found in set\n",
    "sett.discard(99)\n",
    "sett"
   ]
  },
  {
   "cell_type": "code",
   "execution_count": 83,
   "id": "4ae0616d-f127-445b-be22-ed32e02b6482",
   "metadata": {},
   "outputs": [
    {
     "data": {
      "text/plain": [
       "97"
      ]
     },
     "execution_count": 83,
     "metadata": {},
     "output_type": "execute_result"
    }
   ],
   "source": [
    "sett.pop()"
   ]
  },
  {
   "cell_type": "code",
   "execution_count": 85,
   "id": "26cbf47b-b0f2-453a-8249-bc2793a9a4d0",
   "metadata": {},
   "outputs": [
    {
     "data": {
      "text/plain": [
       "{2, 3, 34, 35, 82}"
      ]
     },
     "execution_count": 85,
     "metadata": {},
     "output_type": "execute_result"
    }
   ],
   "source": [
    "sett # after pop"
   ]
  },
  {
   "cell_type": "code",
   "execution_count": 89,
   "id": "76fdd79a-63a7-4f3b-b176-f3be664dede4",
   "metadata": {},
   "outputs": [
    {
     "data": {
      "text/plain": [
       "{2, 3, 34, 35, 82}"
      ]
     },
     "execution_count": 89,
     "metadata": {},
     "output_type": "execute_result"
    }
   ],
   "source": [
    "new_sett = sett.copy()\n",
    "new_sett"
   ]
  },
  {
   "cell_type": "code",
   "execution_count": 93,
   "id": "3f7829af-871b-4378-9867-0d3452b7963d",
   "metadata": {},
   "outputs": [],
   "source": [
    "# sett.clear will remove all the element from the set"
   ]
  },
  {
   "cell_type": "markdown",
   "id": "08a808b3-56a2-4a68-aeb7-41e0211b32cb",
   "metadata": {},
   "source": [
    "---\n",
    "#### Set operations\n",
    "- union\n",
    "- intersection\n",
    "- difference\n",
    "- symmetric_difference\n",
    "- issubset\n",
    "- issupterset"
   ]
  },
  {
   "cell_type": "code",
   "execution_count": 18,
   "id": "f13bf6ef-e774-4891-826c-1ccae4443747",
   "metadata": {},
   "outputs": [],
   "source": [
    "s1 = {1,2,3,4}"
   ]
  },
  {
   "cell_type": "code",
   "execution_count": 20,
   "id": "fd47fa1c-eab3-4b28-b922-64abde871c93",
   "metadata": {},
   "outputs": [],
   "source": [
    "s2 = {4,5,6,7}"
   ]
  },
  {
   "cell_type": "code",
   "execution_count": 34,
   "id": "7cdb3af9-37d7-48ce-8013-a5fcff6639e3",
   "metadata": {},
   "outputs": [],
   "source": [
    "s3 = {2,3}"
   ]
  },
  {
   "cell_type": "code",
   "execution_count": 22,
   "id": "3321d86c-953c-4394-a00e-65d1b7f1c759",
   "metadata": {},
   "outputs": [
    {
     "data": {
      "text/plain": [
       "{1, 2, 3, 4, 5, 6, 7}"
      ]
     },
     "execution_count": 22,
     "metadata": {},
     "output_type": "execute_result"
    }
   ],
   "source": [
    "s1.union(s2)"
   ]
  },
  {
   "cell_type": "code",
   "execution_count": 24,
   "id": "27bfffb1-be10-4069-af41-50a54b9ad9c0",
   "metadata": {},
   "outputs": [
    {
     "data": {
      "text/plain": [
       "{4}"
      ]
     },
     "execution_count": 24,
     "metadata": {},
     "output_type": "execute_result"
    }
   ],
   "source": [
    "s1.intersection(s2)"
   ]
  },
  {
   "cell_type": "code",
   "execution_count": 26,
   "id": "3639da16-dc59-4576-a3b2-286187837c38",
   "metadata": {},
   "outputs": [
    {
     "data": {
      "text/plain": [
       "{1, 2, 3}"
      ]
     },
     "execution_count": 26,
     "metadata": {},
     "output_type": "execute_result"
    }
   ],
   "source": [
    "s1.difference(s2)"
   ]
  },
  {
   "cell_type": "code",
   "execution_count": 28,
   "id": "b5ad5280-e37c-4481-bc29-5a163159e6e6",
   "metadata": {},
   "outputs": [
    {
     "data": {
      "text/plain": [
       "{5, 6, 7}"
      ]
     },
     "execution_count": 28,
     "metadata": {},
     "output_type": "execute_result"
    }
   ],
   "source": [
    "s2.difference(s1)"
   ]
  },
  {
   "cell_type": "code",
   "execution_count": 32,
   "id": "9184e5b1-1445-40e9-91c8-7cdf30e3c593",
   "metadata": {},
   "outputs": [
    {
     "data": {
      "text/plain": [
       "{1, 2, 3, 5, 6, 7}"
      ]
     },
     "execution_count": 32,
     "metadata": {},
     "output_type": "execute_result"
    }
   ],
   "source": [
    "s1.symmetric_difference(s2) # = union - intersection"
   ]
  },
  {
   "cell_type": "code",
   "execution_count": 36,
   "id": "33b366c6-3029-4071-b801-30f15f348e22",
   "metadata": {},
   "outputs": [
    {
     "data": {
      "text/plain": [
       "True"
      ]
     },
     "execution_count": 36,
     "metadata": {},
     "output_type": "execute_result"
    }
   ],
   "source": [
    "s3.issubset(s1)"
   ]
  },
  {
   "cell_type": "code",
   "execution_count": 38,
   "id": "36cc39c6-7ab6-463a-9d11-7c2eb494675d",
   "metadata": {},
   "outputs": [
    {
     "data": {
      "text/plain": [
       "True"
      ]
     },
     "execution_count": 38,
     "metadata": {},
     "output_type": "execute_result"
    }
   ],
   "source": [
    "s1.issuperset(s3)"
   ]
  },
  {
   "cell_type": "markdown",
   "id": "8e04cd7d-3e9b-4f43-8779-029671d641bb",
   "metadata": {},
   "source": [
    "---\n",
    "#### We can also do this with symboles, here is a proper discription of that:\n",
    "- union `|`\n",
    "- intersetion `&`\n",
    "- difference `-`\n",
    "- symmetric differnece `^`"
   ]
  },
  {
   "cell_type": "code",
   "execution_count": 40,
   "id": "9c973845-de2b-4dee-bbc1-a5be3f69f14e",
   "metadata": {},
   "outputs": [
    {
     "name": "stdout",
     "output_type": "stream",
     "text": [
      "{1, 2, 3, 4, 5, 6}\n",
      "{1, 2, 3, 4, 5, 6}\n",
      "{3, 4}\n",
      "{3, 4}\n",
      "{1, 2}\n",
      "{1, 2}\n",
      "{1, 2, 5, 6}\n",
      "{1, 2, 5, 6}\n"
     ]
    }
   ],
   "source": [
    "set1 = {1, 2, 3, 4}\n",
    "set2 = {3, 4, 5, 6}\n",
    "\n",
    "# Union – combines all unique elements\n",
    "print(set1 | set2)            # {1, 2, 3, 4, 5, 6}\n",
    "print(set1.union(set2))       # same result\n",
    "\n",
    "# Intersection – common elements\n",
    "print(set1 & set2)            # {3, 4}\n",
    "print(set1.intersection(set2))# same result\n",
    "\n",
    "# Difference – in set1 but not in set2\n",
    "print(set1 - set2)            # {1, 2}\n",
    "print(set1.difference(set2))  # same result\n",
    "\n",
    "# Symmetric Difference – in either set, but not both\n",
    "print(set1 ^ set2)                     # {1, 2, 5, 6}\n",
    "print(set1.symmetric_difference(set2))# same result"
   ]
  }
 ],
 "metadata": {
  "kernelspec": {
   "display_name": "Python [conda env:base] *",
   "language": "python",
   "name": "conda-base-py"
  },
  "language_info": {
   "codemirror_mode": {
    "name": "ipython",
    "version": 3
   },
   "file_extension": ".py",
   "mimetype": "text/x-python",
   "name": "python",
   "nbconvert_exporter": "python",
   "pygments_lexer": "ipython3",
   "version": "3.12.7"
  }
 },
 "nbformat": 4,
 "nbformat_minor": 5
}
