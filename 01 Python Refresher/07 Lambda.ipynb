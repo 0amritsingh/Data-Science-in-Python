{
 "cells": [
  {
   "cell_type": "markdown",
   "id": "2bef21c1",
   "metadata": {},
   "source": [
    "# Lambda Functions in Python\n",
    "\n",
    "A **lambda function** in Python is an **anonymous, single-expression function** defined using the `lambda` keyword. It is commonly used for **short, throwaway functions** where a full function definition is unnecessary.\n",
    "\n",
    "---\n",
    "\n",
    "## 1. Syntax of Lambda Functions\n",
    "\n",
    "```python\n",
    "lambda arguments: expression\n",
    "```\n",
    "\n",
    "- `lambda` → Keyword to define a lambda function  \n",
    "- `arguments` → Input parameters (comma-separated)  \n",
    "- `expression` → The operation performed (must be a **single** expression, not multiple statements)  \n",
    "\n",
    "### **Example: Simple Lambda Function**\n",
    "```python\n",
    "square = lambda x: x ** 2\n",
    "print(square(5))  # Output: 25\n",
    "```\n",
    "\n",
    "---\n",
    "\n",
    "## 2. Using Lambda Functions with `map()`, `filter()`, and `reduce()`\n",
    "\n",
    "### **2.1 Using `map()` with Lambda**\n",
    "Applies a function to each element of an iterable.\n",
    "\n",
    "```python\n",
    "numbers = [1, 2, 3, 4]\n",
    "squared = list(map(lambda x: x**2, numbers))\n",
    "print(squared)  # Output: [1, 4, 9, 16]\n",
    "```\n",
    "\n",
    "---\n",
    "\n",
    "### **2.2 Using `filter()` with Lambda**\n",
    "Filters elements based on a condition.\n",
    "\n",
    "```python\n",
    "numbers = [1, 2, 3, 4, 5, 6]\n",
    "evens = list(filter(lambda x: x % 2 == 0, numbers))\n",
    "print(evens)  # Output: [2, 4, 6]\n",
    "```\n",
    "\n",
    "---\n",
    "\n",
    "### **2.3 Using `reduce()` with Lambda**\n",
    "Reduces an iterable to a single value (requires `functools.reduce`).\n",
    "\n",
    "```python\n",
    "from functools import reduce\n",
    "\n",
    "numbers = [1, 2, 3, 4]\n",
    "product = reduce(lambda x, y: x * y, numbers)\n",
    "print(product)  # Output: 24\n",
    "```\n",
    "\n",
    "---\n",
    "\n",
    "## 3. Lambda with Multiple Arguments\n",
    "\n",
    "### **Example: Adding Two Numbers**\n",
    "```python\n",
    "add = lambda x, y: x + y\n",
    "print(add(3, 7))  # Output: 10\n",
    "```\n",
    "\n",
    "### **Example: Finding the Maximum of Two Numbers**\n",
    "```python\n",
    "maximum = lambda x, y: x if x > y else y\n",
    "print(maximum(10, 5))  # Output: 10\n",
    "```\n",
    "\n",
    "---\n",
    "\n",
    "## 4. Lambda in Sorting Functions\n",
    "\n",
    "### **Sorting a List of Tuples**\n",
    "```python\n",
    "students = [(\"Alice\", 85), (\"Bob\", 78), (\"Charlie\", 92)]\n",
    "students.sort(key=lambda student: student[1])  # Sort by score\n",
    "print(students)  # Output: [('Bob', 78), ('Alice', 85), ('Charlie', 92)]\n",
    "```\n",
    "\n",
    "---\n",
    "\n",
    "## 5. When to Use Lambda Functions?\n",
    "\n",
    " **Use Lambda Functions When:**\n",
    "- The function is **short and simple**.\n",
    "- Used **temporarily** inside another function (e.g., `map`, `filter`).\n",
    "- Avoiding defining a full function with `def`.\n",
    "\n",
    " **Avoid Lambda Functions When:**\n",
    "- The function is **complex** (use `def` for readability).\n",
    "- Multiple operations/statements are needed.\n",
    "\n",
    "---\n",
    "\n",
    "## Summary\n",
    "\n",
    "| Feature | Example |\n",
    "|---------|---------|\n",
    "| **Basic Lambda Function** | `lambda x: x**2` |\n",
    "| **With `map()`** | `map(lambda x: x**2, numbers)` |\n",
    "| **With `filter()`** | `filter(lambda x: x % 2 == 0, numbers)` |\n",
    "| **With `reduce()`** | `reduce(lambda x, y: x * y, numbers)` |\n",
    "| **Multiple Arguments** | `lambda x, y: x + y` |\n",
    "| **Sorting with Lambda** | `sort(key=lambda x: x[1])` |\n",
    " "
   ]
  },
  {
   "cell_type": "code",
   "execution_count": 5,
   "id": "1c430046",
   "metadata": {},
   "outputs": [
    {
     "data": {
      "text/plain": [
       "4"
      ]
     },
     "execution_count": 5,
     "metadata": {},
     "output_type": "execute_result"
    }
   ],
   "source": [
    "# Basic syntax of lambda: variable = lambda argument: expression\n",
    "a = lambda x: x**x\n",
    "a(2)"
   ]
  },
  {
   "cell_type": "code",
   "execution_count": 12,
   "id": "ace7619d",
   "metadata": {},
   "outputs": [
    {
     "name": "stdout",
     "output_type": "stream",
     "text": [
      "[9, 18, 27, 36, 45, 54, 63, 72, 81, 90]\n"
     ]
    }
   ],
   "source": [
    "# lambda with map\n",
    "number = 9\n",
    "tableprinter = map(lambda x: x * number, [i for i in range(1, 11)])\n",
    "print(list(tableprinter))"
   ]
  },
  {
   "cell_type": "code",
   "execution_count": 20,
   "id": "b869156a",
   "metadata": {},
   "outputs": [
    {
     "name": "stdout",
     "output_type": "stream",
     "text": [
      "[1, 3, 5, 7, 9, 11, 13, 15, 17, 19]\n"
     ]
    }
   ],
   "source": [
    "# lambda with filter\n",
    "upto = 20\n",
    "oddnumbers = filter(lambda x: x % 2 != 0, [i for i in range(upto + 1)])\n",
    "print(list(oddnumbers))"
   ]
  },
  {
   "cell_type": "code",
   "execution_count": 24,
   "id": "ca7958b3",
   "metadata": {},
   "outputs": [
    {
     "name": "stdout",
     "output_type": "stream",
     "text": [
      "210\n"
     ]
    }
   ],
   "source": [
    "# lambda with reduce\n",
    "import functools\n",
    "upto = 20\n",
    "sumall = functools.reduce(lambda x, y: x + y, [i for i in range(upto + 1)])\n",
    "print(sumall)"
   ]
  },
  {
   "cell_type": "code",
   "execution_count": 25,
   "id": "32ca2545",
   "metadata": {},
   "outputs": [
    {
     "name": "stdout",
     "output_type": "stream",
     "text": [
      "8\n"
     ]
    }
   ],
   "source": [
    "# lambda with multiple arguements\n",
    "raisetothepower = lambda x, y : x**y\n",
    "print(raisetothepower(2, 3))"
   ]
  },
  {
   "cell_type": "code",
   "execution_count": null,
   "id": "19c5dcb2",
   "metadata": {},
   "outputs": [],
   "source": [
    "# i didn't undersand sorting with lambda. i'll do it later"
   ]
  }
 ],
 "metadata": {
  "kernelspec": {
   "display_name": "base",
   "language": "python",
   "name": "python3"
  },
  "language_info": {
   "codemirror_mode": {
    "name": "ipython",
    "version": 3
   },
   "file_extension": ".py",
   "mimetype": "text/x-python",
   "name": "python",
   "nbconvert_exporter": "python",
   "pygments_lexer": "ipython3",
   "version": "3.12.7"
  }
 },
 "nbformat": 4,
 "nbformat_minor": 5
}
