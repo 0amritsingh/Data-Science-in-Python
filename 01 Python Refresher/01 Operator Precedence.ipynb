{
 "cells": [
  {
   "cell_type": "markdown",
   "id": "146254e0-8668-46e3-bc15-4a257c448645",
   "metadata": {},
   "source": [
    "# Operator Precedence in Python\n",
    "Python follows **PEMDAS** (Parentheses, Exponents, Multiplication/Division, Addition/Subtraction). The order of operations in Python is:\n",
    "\n",
    "1. **Parentheses `()`** – Highest precedence, operations inside parentheses are evaluated first.\n",
    "2. **Exponents `**`** – Power calculations (e.g., `2 ** 3` → 8).\n",
    "3. **Multiplication `*`, Division `/`, Floor Division `//`, Modulus `%`** – Evaluated from left to right.\n",
    "4. **Addition `+`, Subtraction `-`** – Evaluated from left to right.\n",
    "\n",
    "### Example:\n",
    "```python\n",
    "result = 10 + 2 * 3  # Multiplication happens first: 10 + (2 * 3) = 16\n",
    "print(result)\n",
    "\n",
    "result = (10 + 2) * 3  # Parentheses first: (10 + 2) * 3 = 36\n",
    "print(result)\n",
    "\n",
    "result = 2 ** 3 ** 2  # Right-to-left exponentiation: 2 ** (3 ** 2) = 2 ** 9 = 512\n",
    "print(result)\n",
    "```\n",
    " ### Order of Evaluation:\n",
    "\n",
    "1. **Exponentiation (`**`) is evaluated right to left**.  \n",
    "   - Example:  \n",
    "     ```python\n",
    "     print(2 ** 3 ** 2)  # Output: 512\n",
    "     ```\n",
    "     This is evaluated as `2 ** (3 ** 2)`, meaning `2 ** 9 = 512`.\n",
    "\n",
    "2. **Multiplication (`*`), division (`/`), floor division (`//`), and modulo (`%`) are evaluated left to right**.  \n",
    "   - Example:  \n",
    "     ```python\n",
    "     print(16 / 4 * 2)  # Output: 8.0\n",
    "     ```\n",
    "     This is evaluated as `(16 / 4) * 2 = 4.0 * 2 = 8.0`.\n",
    "\n",
    "### Operator Precedence Summary:\n",
    "- `**` (Exponentiation) has the **highest precedence** and is evaluated **right to left**.\n",
    "- `*`, `/`, `//`, and `%` have lower precedence than `**` but are evaluated **left to right**.\n",
    "\n",
    "\n",
    "> Some Example I've tried below: "
   ]
  },
  {
   "cell_type": "code",
   "execution_count": 13,
   "id": "7be187c6-6a05-4f75-b1ca-15555e21a531",
   "metadata": {},
   "outputs": [
    {
     "data": {
      "text/plain": [
       "10.906976744186046"
      ]
     },
     "execution_count": 13,
     "metadata": {},
     "output_type": "execute_result"
    }
   ],
   "source": [
    "eqn = 7*4+3-8/43*(5+4)*3*4\n",
    "eqn"
   ]
  },
  {
   "cell_type": "code",
   "execution_count": 15,
   "id": "2c2314fc-4365-4cf2-b54f-6209a8669bfe",
   "metadata": {},
   "outputs": [
    {
     "data": {
      "text/plain": [
       "11"
      ]
     },
     "execution_count": 15,
     "metadata": {},
     "output_type": "execute_result"
    }
   ],
   "source": [
    "import math\n",
    "math.ceil(eqn)"
   ]
  },
  {
   "cell_type": "code",
   "execution_count": null,
   "id": "8714c264-6e1c-4fdb-9a98-a268b0b19d7d",
   "metadata": {},
   "outputs": [],
   "source": []
  }
 ],
 "metadata": {
  "kernelspec": {
   "display_name": "Python [conda env:base] *",
   "language": "python",
   "name": "conda-base-py"
  },
  "language_info": {
   "codemirror_mode": {
    "name": "ipython",
    "version": 3
   },
   "file_extension": ".py",
   "mimetype": "text/x-python",
   "name": "python",
   "nbconvert_exporter": "python",
   "pygments_lexer": "ipython3",
   "version": "3.12.7"
  }
 },
 "nbformat": 4,
 "nbformat_minor": 5
}
