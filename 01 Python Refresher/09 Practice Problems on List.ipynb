{
 "cells": [
  {
   "cell_type": "markdown",
   "id": "4b12b0a6",
   "metadata": {},
   "source": [
    "#### **Problem 1**\n",
    "WAP to ask the user to enter names of their 3 favorite movies and store them in a list"
   ]
  },
  {
   "cell_type": "code",
   "execution_count": 1,
   "id": "991b382f",
   "metadata": {},
   "outputs": [
    {
     "name": "stdout",
     "output_type": "stream",
     "text": [
      "Enter your 3 favorite movies\n",
      "['Harry Potter', 'John Wick', '300']\n"
     ]
    }
   ],
   "source": [
    "movies = []\n",
    "print('Enter your 3 favorite movies')\n",
    "for i in range(3):\n",
    "    user_input = input(f'Movie {i + 1} : ')\n",
    "    movies.append(user_input)\n",
    "print(movies)"
   ]
  },
  {
   "cell_type": "markdown",
   "id": "04be741a",
   "metadata": {},
   "source": [
    "#### **Problem**\n",
    "WAP to check if a list contains a palindrome of elements. (hint: use **copy()** method)"
   ]
  },
  {
   "cell_type": "code",
   "execution_count": 2,
   "id": "78fa5aae",
   "metadata": {},
   "outputs": [
    {
     "name": "stdout",
     "output_type": "stream",
     "text": [
      "Palindrome\n"
     ]
    }
   ],
   "source": [
    "def is_palindrome(lst):\n",
    "    copied_lst = lst.copy()\n",
    "    copied_lst.reverse()\n",
    "    if lst == copied_lst:\n",
    "        return 'Palindrome'\n",
    "    else:\n",
    "        return 'NOT Palindrome'\n",
    "\n",
    "lst = [1,'amrit',5,'amrit',1]\n",
    "result = is_palindrome(lst)\n",
    "print(result)"
   ]
  }
 ],
 "metadata": {
  "kernelspec": {
   "display_name": "base",
   "language": "python",
   "name": "python3"
  },
  "language_info": {
   "codemirror_mode": {
    "name": "ipython",
    "version": 3
   },
   "file_extension": ".py",
   "mimetype": "text/x-python",
   "name": "python",
   "nbconvert_exporter": "python",
   "pygments_lexer": "ipython3",
   "version": "3.12.7"
  }
 },
 "nbformat": 4,
 "nbformat_minor": 5
}
