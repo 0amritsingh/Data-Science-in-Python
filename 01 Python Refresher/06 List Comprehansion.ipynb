{
 "cells": [
  {
   "cell_type": "markdown",
   "id": "4850c98b",
   "metadata": {},
   "source": [
    "# List Comprehensions in Python\n",
    "\n",
    "List comprehension is a **concise** and **efficient** way to create lists in Python. It allows you to generate lists in a **single line of code**, making your code more readable and Pythonic.\n",
    "\n",
    "---\n",
    "\n",
    "## 1. Basic Syntax\n",
    "\n",
    "```python\n",
    "[expression for item in iterable]\n",
    "```\n",
    "\n",
    "- `expression` → The operation to perform on each item  \n",
    "- `item` → The variable representing each element in the iterable  \n",
    "- `iterable` → The data structure being iterated over (list, range, etc.)\n",
    "\n",
    "### **Example: Creating a list of squares**\n",
    "```python\n",
    "squares = [x**2 for x in range(5)]\n",
    "print(squares)  # Output: [0, 1, 4, 9, 16]\n",
    "```\n",
    "\n",
    "---\n",
    "\n",
    "## 2. Using **if Condition** in List Comprehension\n",
    "\n",
    "### **Example: Filtering even numbers**\n",
    "```python\n",
    "evens = [x for x in range(10) if x % 2 == 0]\n",
    "print(evens)  # Output: [0, 2, 4, 6, 8]\n",
    "```\n",
    "\n",
    "---\n",
    "\n",
    "## 3. Using **if-else Condition** in List Comprehension\n",
    "\n",
    "### **Example: Replacing even numbers with \"Even\" and odd numbers with \"Odd\"**\n",
    "```python\n",
    "numbers = [\"Even\" if x % 2 == 0 else \"Odd\" for x in range(5)]\n",
    "print(numbers)  # Output: ['Even', 'Odd', 'Even', 'Odd', 'Even']\n",
    "```\n",
    "\n",
    "---\n",
    "\n",
    "## 4. Nested Loops in List Comprehension\n",
    "\n",
    "### **Example: Creating pairs from two lists**\n",
    "```python\n",
    "pairs = [(x, y) for x in range(2) for y in range(3)]\n",
    "print(pairs)  # Output: [(0, 0), (0, 1), (0, 2), (1, 0), (1, 1), (1, 2)]\n",
    "```\n",
    "\n",
    "---\n",
    "\n",
    "## 5. List Comprehension with Functions\n",
    "\n",
    "### **Example: Converting a list of strings to uppercase**\n",
    "```python\n",
    "words = [\"hello\", \"world\", \"python\"]\n",
    "upper_words = [word.upper() for word in words]\n",
    "print(upper_words)  # Output: ['HELLO', 'WORLD', 'PYTHON']\n",
    "```\n",
    "\n",
    "---\n",
    "\n",
    "## 6. List Comprehension with **Nested List Comprehension**\n",
    "\n",
    "### **Example: Flattening a 2D list**\n",
    "```python\n",
    "matrix = [[1, 2], [3, 4], [5, 6]]\n",
    "flattened = [num for row in matrix for num in row]\n",
    "print(flattened)  # Output: [1, 2, 3, 4, 5, 6]\n",
    "```\n",
    "\n",
    "---\n",
    "\n",
    "## 7. List Comprehension with **Set and Dictionary Comprehensions**\n",
    "\n",
    "### **Set Comprehension**\n",
    "```python\n",
    "unique_numbers = {x for x in [1, 2, 2, 3, 4, 4]}\n",
    "print(unique_numbers)  # Output: {1, 2, 3, 4}\n",
    "```\n",
    "\n",
    "### **Dictionary Comprehension**\n",
    "```python\n",
    "squared_dict = {x: x**2 for x in range(5)}\n",
    "print(squared_dict)  # Output: {0: 0, 1: 1, 2: 4, 3: 9, 4: 16}\n",
    "```\n",
    "\n",
    "---\n",
    "\n",
    "## 8. When to Use List Comprehensions?\n",
    "\n",
    "- You need to create a list in a **single line**  \n",
    "- The logic is **simple and readable**  \n",
    "- You want to improve **performance** (faster than loops)  \n",
    "\n",
    "Avoid when:\n",
    "- The logic is **too complex** (use a standard loop instead for clarity)  \n",
    "\n",
    "---\n",
    "\n",
    "## 9. Performance Comparison: **List Comprehension vs. Loop**\n",
    "```python\n",
    "import time\n",
    "\n",
    "# Using a for loop\n",
    "start = time.time()\n",
    "squares_loop = []\n",
    "for x in range(10**6):\n",
    "    squares_loop.append(x**2)\n",
    "print(\"Loop time:\", time.time() - start)\n",
    "\n",
    "# Using list comprehension\n",
    "start = time.time()\n",
    "squares_comp = [x**2 for x in range(10**6)]\n",
    "print(\"List Comprehension time:\", time.time() - start)\n",
    "```\n",
    "**List comprehensions are generally faster than loops** because they are optimized internally by Python.\n",
    "\n",
    "---\n",
    "\n",
    "## Summary\n",
    "\n",
    "| Concept | Example |\n",
    "|---------|---------|\n",
    "| **Basic List Comprehension** | `[x**2 for x in range(5)]` |\n",
    "| **With Condition (`if`)** | `[x for x in range(10) if x % 2 == 0]` |\n",
    "| **With `if-else`** | `[\"Even\" if x % 2 == 0 else \"Odd\" for x in range(5)]` |\n",
    "| **Nested Loop** | `[(x, y) for x in range(2) for y in range(3)]` |\n",
    "| **Flatten 2D List** | `[num for row in matrix for num in row]` |\n",
    "| **Set Comprehension** | `{x for x in [1, 2, 2, 3]}` |\n",
    "| **Dictionary Comprehension** | `{x: x**2 for x in range(5)}` |\n"
   ]
  },
  {
   "cell_type": "code",
   "execution_count": 1,
   "id": "49b76642",
   "metadata": {},
   "outputs": [
    {
     "data": {
      "text/plain": [
       "[1, 2, 3, 4, 5, 6, 7, 8, 9, 10]"
      ]
     },
     "execution_count": 1,
     "metadata": {},
     "output_type": "execute_result"
    }
   ],
   "source": [
    "# basic list comprehension syntax\n",
    "l = [i for i in range(1,11)]\n",
    "l"
   ]
  },
  {
   "cell_type": "code",
   "execution_count": null,
   "id": "9b2f11c8",
   "metadata": {},
   "outputs": [
    {
     "data": {
      "text/plain": [
       "[2, 4, 6, 8, 10, 12, 14, 16, 18, 20]"
      ]
     },
     "execution_count": 2,
     "metadata": {},
     "output_type": "execute_result"
    }
   ],
   "source": [
    "a = [i for i in range(1,21) if i % 2 == 0] # filltering even number using if condition\n",
    "a"
   ]
  },
  {
   "cell_type": "code",
   "execution_count": null,
   "id": "14cda69d",
   "metadata": {},
   "outputs": [
    {
     "data": {
      "text/plain": [
       "[1, 2, 3, 4, 'five', 6, 7, 8, 9, 10]"
      ]
     },
     "execution_count": 7,
     "metadata": {},
     "output_type": "execute_result"
    }
   ],
   "source": [
    "b = ['five' if i == 5 else i for i in range(1,11)] # using if-else condition\n",
    "b\n"
   ]
  },
  {
   "cell_type": "code",
   "execution_count": 15,
   "id": "22963f75",
   "metadata": {},
   "outputs": [
    {
     "name": "stdout",
     "output_type": "stream",
     "text": [
      "[[1, 1], [1, 2], [1, 3], [2, 1], [2, 2], [2, 3], [3, 1], [3, 2], [3, 3], [4, 1], [4, 2], [4, 3], [5, 1], [5, 2], [5, 3]]\n"
     ]
    }
   ],
   "source": [
    "c = [[x,y] for x in range(1,6) for y in range(1,4)]\n",
    "print(c)"
   ]
  },
  {
   "cell_type": "code",
   "execution_count": 16,
   "id": "3c1cf2ba",
   "metadata": {},
   "outputs": [
    {
     "data": {
      "text/plain": [
       "[1, 2, 3, 4, 5, 6, 7, 8, 9]"
      ]
     },
     "execution_count": 16,
     "metadata": {},
     "output_type": "execute_result"
    }
   ],
   "source": [
    "l = [[1,2,3],\n",
    "     [4,5,6],\n",
    "     [7,8,9]]\n",
    "h = []\n",
    "for i in l:\n",
    "    for j in i:\n",
    "        h.append(j)\n",
    "h"
   ]
  },
  {
   "cell_type": "code",
   "execution_count": 17,
   "id": "7c0ed37f",
   "metadata": {},
   "outputs": [
    {
     "name": "stdout",
     "output_type": "stream",
     "text": [
      "[1, 1, 1, 2, 1, 3, 2, 1, 2, 2, 2, 3, 3, 1, 3, 2, 3, 3, 4, 1, 4, 2, 4, 3, 5, 1, 5, 2, 5, 3]\n"
     ]
    }
   ],
   "source": [
    "lst = c\n",
    "d = [j for i in lst for j in i] # flatten 2d list\n",
    "print(d)"
   ]
  },
  {
   "cell_type": "code",
   "execution_count": 21,
   "id": "8e2a4cd0",
   "metadata": {},
   "outputs": [
    {
     "data": {
      "text/plain": [
       "{1: 1, 2: 4, 3: 9, 4: 16, 5: 25, 6: 36, 7: 49, 8: 64, 9: 81, 10: 100}"
      ]
     },
     "execution_count": 21,
     "metadata": {},
     "output_type": "execute_result"
    }
   ],
   "source": [
    "# dict comprehension\n",
    "# basic syntax: key_expression: value_expression for item in iterable}\n",
    "e = {i: i**2 for i in range(1,11)}\n",
    "e"
   ]
  },
  {
   "cell_type": "code",
   "execution_count": 22,
   "id": "3afc15bf",
   "metadata": {},
   "outputs": [],
   "source": [
    "# above notes will help you, keep practicing consistently"
   ]
  }
 ],
 "metadata": {
  "kernelspec": {
   "display_name": "base",
   "language": "python",
   "name": "python3"
  },
  "language_info": {
   "codemirror_mode": {
    "name": "ipython",
    "version": 3
   },
   "file_extension": ".py",
   "mimetype": "text/x-python",
   "name": "python",
   "nbconvert_exporter": "python",
   "pygments_lexer": "ipython3",
   "version": "3.12.7"
  }
 },
 "nbformat": 4,
 "nbformat_minor": 5
}
