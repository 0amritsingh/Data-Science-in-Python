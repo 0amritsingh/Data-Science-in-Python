{
 "cells": [
  {
   "cell_type": "code",
   "execution_count": 57,
   "id": "af4658e9",
   "metadata": {},
   "outputs": [],
   "source": [
    "import json\n",
    "\n",
    "# this function cleans the data\n",
    "def clean_data(data):\n",
    "# removing users having empty sections\n",
    "\n",
    "    # for i in range(len(data['users'])):            # This also works same this is my original\n",
    "    #     if data['users'][i]['name'] == '':         # logic I never take help but want an\n",
    "    #         data['users'][i].clear()               # efficient way to solve this problem so I went \n",
    "    # while {} in data['users']:                     # for AI but after making my orinale code \n",
    "    #     data['users'].remove({})                   # because what I do honesty and never cheating\n",
    "\n",
    "    data['users'] = [user for user in data['users'] if user.get('name').strip()]\n",
    "\n",
    "# removing inactive users (0 friends, 0 liked pages)\n",
    "    data['users'] = [user for user in data['users'] if user.get('friends') != [] or user.get('liked_pages') != []]\n",
    "\n",
    "# removing or duplicate values within the secitons\n",
    "    for i in data['users']:\n",
    "        i['friends'] = list(set(i['friends']))\n",
    "        \n",
    "# removing duplicate page id\n",
    "    \n",
    "\n",
    "\n",
    "\n",
    "            \n",
    "\n",
    "    return data\n",
    "\n",
    "# loading old data (messy data) dumping new data (cleaned data) into new file\n",
    "old_data = json.load(open('data2.json', 'r'))\n",
    "new_data = clean_data(old_data)\n",
    "json.dump(new_data, open('clean_data2.json', 'w'), indent=4)"
   ]
  }
 ],
 "metadata": {
  "kernelspec": {
   "display_name": "base",
   "language": "python",
   "name": "python3"
  },
  "language_info": {
   "codemirror_mode": {
    "name": "ipython",
    "version": 3
   },
   "file_extension": ".py",
   "mimetype": "text/x-python",
   "name": "python",
   "nbconvert_exporter": "python",
   "pygments_lexer": "ipython3",
   "version": "3.12.7"
  }
 },
 "nbformat": 4,
 "nbformat_minor": 5
}
