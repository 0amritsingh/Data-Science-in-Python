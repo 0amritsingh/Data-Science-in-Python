{
 "cells": [
  {
   "cell_type": "code",
   "execution_count": 3,
   "id": "af4658e9",
   "metadata": {},
   "outputs": [],
   "source": [
    "import json\n",
    "\n",
    "# this function cleans the data\n",
    "def clean_data(data):\n",
    "# removing users having empty sections\n",
    "    data['users'] = [user for user in data['users'] if user.get('name').strip()]\n",
    "\n",
    "# removing inactive users (0 friends or 0 liked pages)\n",
    "    data['users'] = [user for user in data['users'] if user.get('friends') != [] or user.get('liked_pages') != []]\n",
    "\n",
    "# removing or duplicate values within the secitons\n",
    "    for page in data['users']:\n",
    "        page['friends'] = list(set(page['friends']))\n",
    "        \n",
    "# removing duplicate page id\n",
    "    unique_pages = {}\n",
    "    for page in data['pages']:\n",
    "        unique_pages[page['id']] = page\n",
    "    data['pages'] = list(unique_pages.values())\n",
    "\n",
    "    return data\n",
    "\n",
    "# loading old data (messy data) dumping new data (cleaned data) into new file\n",
    "data = json.load(open('data2.json', 'r'))\n",
    "data = clean_data(data)\n",
    "json.dump(data, open('clean_data2.json', 'w'), indent=4)"
   ]
  },
  {
   "cell_type": "code",
   "execution_count": 4,
   "id": "7313120b",
   "metadata": {},
   "outputs": [],
   "source": [
    "# NOTE: This also works same this is my original logic I never take help but want an efficient way to solve this problem so I went for AI but after making my orinale code because what I do honesty and never cheating\n",
    "   \n",
    "    # for i in range(len(data['users'])):             \n",
    "    #     if data['users'][i]['name'] == '':         \n",
    "    #         data['users'][i].clear()               \n",
    "    # while {} in data['users']:                     \n",
    "    #     data['users'].remove({})                   "
   ]
  },
  {
   "cell_type": "code",
   "execution_count": null,
   "id": "c9133b79",
   "metadata": {},
   "outputs": [],
   "source": []
  }
 ],
 "metadata": {
  "kernelspec": {
   "display_name": "base",
   "language": "python",
   "name": "python3"
  },
  "language_info": {
   "codemirror_mode": {
    "name": "ipython",
    "version": 3
   },
   "file_extension": ".py",
   "mimetype": "text/x-python",
   "name": "python",
   "nbconvert_exporter": "python",
   "pygments_lexer": "ipython3",
   "version": "3.12.7"
  }
 },
 "nbformat": 4,
 "nbformat_minor": 5
}
