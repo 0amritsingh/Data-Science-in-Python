{
 "cells": [
  {
   "cell_type": "markdown",
   "id": "341a0bc3",
   "metadata": {},
   "source": [
    "#### This is my approch, I've tried before watching the video"
   ]
  },
  {
   "cell_type": "code",
   "execution_count": 63,
   "id": "7ce8f1bc",
   "metadata": {},
   "outputs": [
    {
     "name": "stdout",
     "output_type": "stream",
     "text": [
      "[103, 104, 105, 106]\n"
     ]
    }
   ],
   "source": [
    "import json\n",
    "\n",
    "def load_data(filename):\n",
    "    with open(filename, 'r') as file:\n",
    "        return json.load(file)\n",
    "\n",
    "def pages_you_may_like(user_id, data):\n",
    "\n",
    "    users_friends = {}\n",
    "    users_friends_liked_pages = {}\n",
    "    for user in data['users']:\n",
    "        users_friends[user['id']] = user['friends']\n",
    "        users_friends_liked_pages[user['id']] = user['liked_pages']\n",
    "    \n",
    "    suggestion = {}\n",
    "    user_id_friends = users_friends[user_id]\n",
    "    user_id_liked_pages = users_friends_liked_pages[user_id]\n",
    "    for friend in user_id_friends:\n",
    "        for page in users_friends_liked_pages.get(friend, 0):\n",
    "            if page not in user_id_liked_pages:\n",
    "                suggestion[page] = users_friends_liked_pages.get(friend, 0)\n",
    "    return [page for page, _ in suggestion.items()]\n",
    "\n",
    "data = load_data('massive_data.json')\n",
    "user_id = 1\n",
    "recommandation = pages_you_may_like(user_id, data)\n",
    "print(recommandation)"
   ]
  },
  {
   "cell_type": "markdown",
   "id": "26688207",
   "metadata": {},
   "source": [
    "So, I've no added a feature of score in this but there is a mistake and that is that I should involve all other persons that mutual like pages with the user_id but I did that with only user_id's friends.\n",
    "\n",
    "Now, in the following wing code I will do with all the other users as well as I well as that score also."
   ]
  },
  {
   "cell_type": "code",
   "execution_count": null,
   "id": "fa39f7c1",
   "metadata": {},
   "outputs": [],
   "source": [
    "# coming soon"
   ]
  },
  {
   "cell_type": "markdown",
   "id": "2ffb3578",
   "metadata": {},
   "source": [
    "#### Instructor's approch "
   ]
  },
  {
   "cell_type": "code",
   "execution_count": 64,
   "id": "27a507b3",
   "metadata": {},
   "outputs": [
    {
     "name": "stdout",
     "output_type": "stream",
     "text": [
      "Pages You Might Like for User 1: [103, 105, 107, 104, 106, 108, 109, 110, 111, 112, 113, 114, 115, 116, 117, 118, 119, 120, 121, 122, 123, 124, 125, 126, 127]\n"
     ]
    }
   ],
   "source": [
    "import json\n",
    "\n",
    "# Function to load JSON data from a file\n",
    "def load_data(filename):\n",
    "    with open(filename, \"r\") as file:\n",
    "        return json.load(file)\n",
    "\n",
    "# Function to find pages a user might like based on common interests\n",
    "def find_pages_you_might_like(user_id, data):\n",
    "    # Dictionary to store user interactions with pages\n",
    "    user_pages = {}\n",
    "    for user in data[\"users\"]:\n",
    "        user_pages[user[\"id\"]] = set(user[\"liked_pages\"])\n",
    "    \n",
    "    # If the user is not found, return an empty list\n",
    "    if user_id not in user_pages:\n",
    "        return []\n",
    "    \n",
    "    user_liked_pages = user_pages[user_id]\n",
    "    page_suggestions = {}\n",
    "    \n",
    "    for other_user, pages in user_pages.items():\n",
    "        if other_user != user_id:\n",
    "            shared_pages = user_liked_pages.intersection(pages)\n",
    "            for page in pages:\n",
    "                if page not in user_liked_pages:\n",
    "                    page_suggestions[page] = page_suggestions.get(page, 0) + len(shared_pages)\n",
    "    \n",
    "    # Sort recommended pages based on the number of shared interactions\n",
    "    sorted_pages = sorted(page_suggestions.items(), key=lambda x: x[1], reverse=True)\n",
    "    return [page_id for page_id, _ in sorted_pages]\n",
    "\n",
    "# Load data\n",
    "data = load_data(\"massive_data.json\")\n",
    "user_id = 1  # Example: Finding recommendations for Amit\n",
    "page_recommendations = find_pages_you_might_like(user_id, data)\n",
    "print(f\"Pages You Might Like for User {user_id}: {page_recommendations}\")"
   ]
  },
  {
   "cell_type": "code",
   "execution_count": null,
   "id": "55eea5d4",
   "metadata": {},
   "outputs": [],
   "source": []
  }
 ],
 "metadata": {
  "kernelspec": {
   "display_name": "base",
   "language": "python",
   "name": "python3"
  },
  "language_info": {
   "codemirror_mode": {
    "name": "ipython",
    "version": 3
   },
   "file_extension": ".py",
   "mimetype": "text/x-python",
   "name": "python",
   "nbconvert_exporter": "python",
   "pygments_lexer": "ipython3",
   "version": "3.12.7"
  }
 },
 "nbformat": 4,
 "nbformat_minor": 5
}
