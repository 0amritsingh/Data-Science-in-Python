{
 "cells": [
  {
   "cell_type": "markdown",
   "id": "5f494c8f",
   "metadata": {},
   "source": [
    "##### This was my approch to solve this problem\n",
    "but this cause problem when we work with massive data"
   ]
  },
  {
   "cell_type": "code",
   "execution_count": 3,
   "id": "b1209dfe",
   "metadata": {},
   "outputs": [
    {
     "name": "stdout",
     "output_type": "stream",
     "text": [
      "People You May Know for User 1: [4]\n"
     ]
    }
   ],
   "source": [
    "import json\n",
    "data = json.load(open('data.json', 'r'))\n",
    "\n",
    "def people_you_may_like(user_id):\n",
    "    pyml = []\n",
    "    for i in data['users']:\n",
    "        if i['id'] == user_id:\n",
    "            for j in data['users']:\n",
    "                if j['id'] != i['id']:\n",
    "                    for k in i['friends']:\n",
    "                        if k in j['friends']:\n",
    "                            pyml.append(j['id'])\n",
    "    return f'People You May Know for User {user_id}: {pyml}'\n",
    "\n",
    "print(people_you_may_like(1))"
   ]
  },
  {
   "cell_type": "markdown",
   "id": "58b29cb8",
   "metadata": {},
   "source": [
    "##### This is instructor's approch to solve this problem"
   ]
  },
  {
   "cell_type": "code",
   "execution_count": null,
   "id": "7e8859a6",
   "metadata": {},
   "outputs": [
    {
     "name": "stdout",
     "output_type": "stream",
     "text": [
      "People You May Know for User 10: [1, 2, 3, 13, 22, 6, 4, 7, 14, 15, 18, 11]\n"
     ]
    }
   ],
   "source": [
    "import json\n",
    "\n",
    "def load_data(filename):\n",
    "    with open(filename, \"r\") as file:\n",
    "        return json.load(file)\n",
    "\n",
    "def find_people_you_may_know(user_id, data):\n",
    "    user_friends = {}\n",
    "    for user in data[\"users\"]:\n",
    "        user_friends[user[\"id\"]] = set(user[\"friends\"])\n",
    "    \n",
    "    if user_id not in user_friends:\n",
    "        return []\n",
    "    \n",
    "    direct_friends = user_friends[user_id]\n",
    "    suggestions = {}\n",
    "    \n",
    "    for friend in direct_friends:\n",
    "        # For all friends of friend\n",
    "        for mutual in user_friends[friend]:\n",
    "            # If mutual id is not the same user and not already a direct friend of user\n",
    "            if mutual != user_id and mutual not in direct_friends:\n",
    "                # Count mutual friends\n",
    "                suggestions[mutual] = suggestions.get(mutual, 0) + 1\n",
    "    \n",
    "    sorted_suggestions = sorted(suggestions.items(), key=lambda x: x[1], reverse=True)\n",
    "    return [user_id for user_id, _ in sorted_suggestions]\n",
    "\n",
    "# Load data\n",
    "data = load_data(\"massive_data.json\")\n",
    "user_id = 10 # Example: Finding suggestions for Amit\n",
    "recommendations = find_people_you_may_know(user_id, data)\n",
    "print(f\"People You May Know for User {user_id}: {recommendations}\")"
   ]
  },
  {
   "cell_type": "markdown",
   "id": "91a07908",
   "metadata": {},
   "source": [
    "#### Again I pratice it and understood it "
   ]
  },
  {
   "cell_type": "code",
   "execution_count": 2,
   "id": "dac9e4a3",
   "metadata": {},
   "outputs": [
    {
     "name": "stdout",
     "output_type": "stream",
     "text": [
      "[1, 2, 6, 11, 3, 4, 7, 14, 15, 13, 18, 22]\n"
     ]
    }
   ],
   "source": [
    "import json\n",
    "\n",
    "def load_data(filename):\n",
    "    with open(filename, 'r') as file:\n",
    "        return json.load(file)\n",
    "\n",
    "\n",
    "def people_you_may_know(user_id, data):\n",
    "\n",
    "    user_friends = {}\n",
    "    for user in data['users']:\n",
    "        user_friends[user['id']] = user['friends']\n",
    "    \n",
    "    user_mutuals = {}\n",
    "    for friend in user_friends[user_id]:\n",
    "        for mutual in user_friends[friend]:\n",
    "            if mutual not in user_friends[user_id] and mutual != user_id:\n",
    "                user_mutuals[mutual] = user_mutuals.get(mutual)\n",
    "    return [user_id for user_id, _ in user_mutuals.items()]\n",
    "\n",
    "data = load_data('massive_data.json')\n",
    "user_id = 10\n",
    "recommandation = people_you_may_know(user_id, data)\n",
    "print(recommandation)"
   ]
  },
  {
   "cell_type": "code",
   "execution_count": null,
   "id": "0560bfbe",
   "metadata": {},
   "outputs": [],
   "source": []
  }
 ],
 "metadata": {
  "kernelspec": {
   "display_name": "base",
   "language": "python",
   "name": "python3"
  },
  "language_info": {
   "codemirror_mode": {
    "name": "ipython",
    "version": 3
   },
   "file_extension": ".py",
   "mimetype": "text/x-python",
   "name": "python",
   "nbconvert_exporter": "python",
   "pygments_lexer": "ipython3",
   "version": "3.12.7"
  }
 },
 "nbformat": 4,
 "nbformat_minor": 5
}
