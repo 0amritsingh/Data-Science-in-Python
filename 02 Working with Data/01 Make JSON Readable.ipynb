{
 "cells": [
  {
   "cell_type": "markdown",
   "id": "af413ccd",
   "metadata": {},
   "source": [
    "# First Step to Data Science\n",
    "\n",
    "#### We've given a json file i.e. data.json\n",
    " - We have to origanize that data into simple way so that a any person can understand that data\n",
    " - Our task is to use pure python without using any module except json we need to origanize the data\n",
    " - It's our creativity to make it as good as possible but make sure not to waste time in that\n",
    " - Give your self a deadline and do it "
   ]
  },
  {
   "cell_type": "code",
   "execution_count": 1,
   "id": "1a313d19",
   "metadata": {},
   "outputs": [],
   "source": [
    "import json\n",
    "def load_data(filename):\n",
    "    global data\n",
    "    with open(filename, 'r') as file:\n",
    "        data = json.load(file)\n",
    "    return data"
   ]
  },
  {
   "cell_type": "code",
   "execution_count": 2,
   "id": "0f15414d",
   "metadata": {},
   "outputs": [
    {
     "name": "stdout",
     "output_type": "stream",
     "text": [
      "\n",
      "\n",
      "User Details:\n",
      "ID: 1\n",
      "Username: Amit\n",
      "Frinds: Priya, Rahul, \n",
      "Liked pages: Python Developers, \n",
      "\n",
      "User Details:\n",
      "ID: 2\n",
      "Username: Priya\n",
      "Frinds: Amit, Sara, \n",
      "Liked pages: Data Science Enthusiasts, \n",
      "\n",
      "User Details:\n",
      "ID: 3\n",
      "Username: Rahul\n",
      "Frinds: Amit, \n",
      "Liked pages: Python Developers, AI & ML Community, \n",
      "\n",
      "User Details:\n",
      "ID: 4\n",
      "Username: Sara\n",
      "Frinds: Priya, \n",
      "Liked pages: Web Dev Hub, \n",
      "\n",
      "Page Details:\n",
      "ID: 101\n",
      "Name: Python Developers\n",
      "\n",
      "Page Details:\n",
      "ID: 102\n",
      "Name: Data Science Enthusiasts\n",
      "\n",
      "Page Details:\n",
      "ID: 103\n",
      "Name: AI & ML Community\n",
      "\n",
      "Page Details:\n",
      "ID: 104\n",
      "Name: Web Dev Hub\n"
     ]
    }
   ],
   "source": [
    "def user_details(uid):\n",
    "    data = load_data('data.json')\n",
    "    print(f'\\n\\nUser Details:\\nID: {uid}\\nUsername: {data['users'][uid - 1]['name']}\\nFrinds: ', end='')\n",
    "    for i in data['users'][uid - 1]['friends']:\n",
    "        for j in data['users']:\n",
    "            if j['id'] == i:\n",
    "                print(j['name'], end=', ')\n",
    "    print('\\nLiked pages:', end=' ')\n",
    "    for j in data['users'][uid - 1]['liked_pages']:\n",
    "        print(data['pages'][j - 101]['name'], end=', ')\n",
    "    \n",
    "def page_details(pid):\n",
    "    data = load_data('data.json')\n",
    "    print(f'\\nPage Details:\\nID: {data['pages'][pid - 101]['id']}\\nName: {data['pages'][pid - 101]['name']}')\n",
    "\n",
    "def all_users_details():\n",
    "    data = load_data('data.json')\n",
    "    for i in range(len(data['users'])):\n",
    "        user_details(i + 1)\n",
    "\n",
    "def all_pages_details():\n",
    "    data = load_data('data.json')\n",
    "    for i in range(len(data['pages'])):\n",
    "        page_details(101 + i)\n",
    "\n",
    "all_users_details()\n",
    "print()\n",
    "all_pages_details()\n"
   ]
  }
 ],
 "metadata": {
  "kernelspec": {
   "display_name": "base",
   "language": "python",
   "name": "python3"
  },
  "language_info": {
   "codemirror_mode": {
    "name": "ipython",
    "version": 3
   },
   "file_extension": ".py",
   "mimetype": "text/x-python",
   "name": "python",
   "nbconvert_exporter": "python",
   "pygments_lexer": "ipython3",
   "version": "3.12.7"
  }
 },
 "nbformat": 4,
 "nbformat_minor": 5
}
