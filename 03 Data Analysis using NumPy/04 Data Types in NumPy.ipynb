{
 "cells": [
  {
   "cell_type": "markdown",
   "id": "0c9b68b6",
   "metadata": {},
   "source": [
    "# Why Data types\n",
    " - NumPy arrays are *homogeneous*, meaning all elements must be of the same type.\n",
    " - You can check the data type of a NumPy array using the `.dtype` attribute.\n",
    " - Use `.astype()` to change data types and optimize memory and performance.\n",
    " - The choice of data type affects *memory usage, performance, and precision*.\n",
    "     - **Memory Usage:** Smaller data types use less memory.\n",
    "     - **Performance:** Operations on smaller data types are faster due to less data being processed.\n",
    "     - **Precision:** Choosing the appropriate data type ensures that you don't lose precision (e.g., using `float32` instead of `float64` if you don't need that extra precision).\n",
    " - Be mindful of complex numbers and object data types, which can increase memory usage and reduce performance.\n",
    "\n",
    "### Common Data Types in NumPy:\n",
    " - `int32`, `int64`: Integer types with different bit sizes.\n",
    " - `float32`, `float64`: Floating-point types with different precision.\n",
    " - `bool`: Boolean data type.\n",
    " - `complex64`, `complex128`: Complex number types.\n",
    " - `object`: For storing objects (e.g., Python objects, strings)."
   ]
  },
  {
   "cell_type": "code",
   "execution_count": 21,
   "id": "e5ed0dc3",
   "metadata": {},
   "outputs": [
    {
     "name": "stdout",
     "output_type": "stream",
     "text": [
      "int32\n"
     ]
    }
   ],
   "source": [
    "import numpy as np\n",
    "\n",
    "arr = np.array([1, 2, 3, 4, 5])\n",
    "print(arr.dtype)"
   ]
  },
  {
   "cell_type": "markdown",
   "id": "3ab5a18e",
   "metadata": {},
   "source": [
    "**Example**: Changing Data Types"
   ]
  },
  {
   "cell_type": "code",
   "execution_count": 22,
   "id": "0e82fa72",
   "metadata": {},
   "outputs": [
    {
     "name": "stdout",
     "output_type": "stream",
     "text": [
      "[1. 2. 3. 4. 5.] float32\n",
      "['1' '2' '3' '4'] <U1\n"
     ]
    }
   ],
   "source": [
    "# change after making the array, you can also make a copy of the array\n",
    "arr2 = arr.astype('float32')\n",
    "print(arr2, arr2.dtype)\n",
    "\n",
    "# change during making the array\n",
    "arr3 = np.array([1,2,3,4], dtype='str')\n",
    "print(arr3, arr3.dtype)"
   ]
  },
  {
   "cell_type": "markdown",
   "id": "b90d079b",
   "metadata": {},
   "source": [
    "**Example**: Downcasting to Save Memory"
   ]
  },
  {
   "cell_type": "code",
   "execution_count": 23,
   "id": "454a6fe5",
   "metadata": {},
   "outputs": [
    {
     "name": "stdout",
     "output_type": "stream",
     "text": [
      "24\n",
      "48\n"
     ]
    }
   ],
   "source": [
    "# 64 bits takes 3 elements * 8 bytes\n",
    "# 32 bits takes 3 elements * 4 bytes\n",
    "\n",
    "arr = np.array([1,2,3,4,5,6])\n",
    "a = arr.astype('float32')\n",
    "print(a.nbytes)\n",
    "b = arr.astype('float64')\n",
    "print(b.nbytes)"
   ]
  },
  {
   "cell_type": "markdown",
   "id": "fad3614e",
   "metadata": {},
   "source": [
    "**Example**: String Array"
   ]
  },
  {
   "cell_type": "code",
   "execution_count": 24,
   "id": "40b80b7e",
   "metadata": {},
   "outputs": [
    {
     "name": "stdout",
     "output_type": "stream",
     "text": [
      "['apple' 'mango' 'banana'] <U6\n"
     ]
    }
   ],
   "source": [
    "arr_str = np.array(['apple', 'mango', 'banana'], dtype = 'U') # or dtype = 'str'\n",
    "print(arr_str, arr_str.dtype)"
   ]
  },
  {
   "cell_type": "markdown",
   "id": "37f8b2db",
   "metadata": {},
   "source": [
    "**Example**: Complex Numbers"
   ]
  },
  {
   "cell_type": "code",
   "execution_count": 25,
   "id": "49eedb81",
   "metadata": {},
   "outputs": [
    {
     "name": "stdout",
     "output_type": "stream",
     "text": [
      "[1.+4.j 3.-3.j 9.+0.j] complex64\n"
     ]
    }
   ],
   "source": [
    "arr_comp = np.array([1 + 4j, 3 - 3j, 9 + 0j], dtype='complex64')\n",
    "print(arr_comp, arr_comp.dtype)"
   ]
  },
  {
   "cell_type": "markdown",
   "id": "757b7edd",
   "metadata": {},
   "source": [
    "**Example**: Object Data Type"
   ]
  },
  {
   "cell_type": "code",
   "execution_count": 26,
   "id": "6abc631d",
   "metadata": {},
   "outputs": [
    {
     "name": "stdout",
     "output_type": "stream",
     "text": [
      "[{1: 'one', 0: 'zero'} 'sting' (1, 3, 4, 4)] object\n"
     ]
    }
   ],
   "source": [
    "arr_obj = np.array([{1:'one', 0:'zero'}, 'sting', (1,3,4,4)], dtype='object')\n",
    "print(arr_obj, arr_obj.dtype)"
   ]
  }
 ],
 "metadata": {
  "kernelspec": {
   "display_name": "base",
   "language": "python",
   "name": "python3"
  },
  "language_info": {
   "codemirror_mode": {
    "name": "ipython",
    "version": 3
   },
   "file_extension": ".py",
   "mimetype": "text/x-python",
   "name": "python",
   "nbconvert_exporter": "python",
   "pygments_lexer": "ipython3",
   "version": "3.12.7"
  }
 },
 "nbformat": 4,
 "nbformat_minor": 5
}
