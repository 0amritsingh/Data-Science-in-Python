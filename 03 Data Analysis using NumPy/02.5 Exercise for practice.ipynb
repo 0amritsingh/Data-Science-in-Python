{
 "cells": [
  {
   "cell_type": "markdown",
   "id": "37971c9a",
   "metadata": {},
   "source": [
    "# Exercises for Practice\n",
    " - Create a 3×3 array filled with random numbers and print its shape.\n",
    " - Convert an array of floats [1.1, 2.2, 3.3] into integers.\n",
    " - Use fancy indexing to extract even numbers from [1, 2, 3, 4, 5, 6].\n",
    " - Reshape a 1D array of size 9 into a 3×3 matrix.\n",
    " - Use boolean masking to filter numbers greater than 50 in an array."
   ]
  },
  {
   "cell_type": "markdown",
   "id": "e3a608ca",
   "metadata": {},
   "source": [
    "### Create a 3×3 array filled with random numbers and print its shape.\n"
   ]
  },
  {
   "cell_type": "code",
   "execution_count": 14,
   "id": "82faf2df",
   "metadata": {},
   "outputs": [
    {
     "name": "stdout",
     "output_type": "stream",
     "text": [
      "(3, 3)\n"
     ]
    }
   ],
   "source": [
    "import numpy as np\n",
    "\n",
    "arr = np.array([[1,2,3], [4,5,6], [7,8,9]])\n",
    "print(arr.shape)"
   ]
  },
  {
   "cell_type": "markdown",
   "id": "fce0fff1",
   "metadata": {},
   "source": [
    "### Convert an array of floats [1.1, 2.2, 3.3] into integers."
   ]
  },
  {
   "cell_type": "code",
   "execution_count": 15,
   "id": "0088a352",
   "metadata": {},
   "outputs": [
    {
     "name": "stdout",
     "output_type": "stream",
     "text": [
      "[1.1 2.2 3.3]\n",
      "float64\n",
      "[1 2 3]\n",
      "int32\n"
     ]
    }
   ],
   "source": [
    "arr_of_float = np.array([1.1, 2.2, 3.3])\n",
    "arr_of_int = arr_of_float.astype('int32')\n",
    "print(arr_of_float)\n",
    "print(arr_of_float.dtype)\n",
    "print(arr_of_int)\n",
    "print(arr_of_int.dtype)"
   ]
  },
  {
   "cell_type": "markdown",
   "id": "37529a7f",
   "metadata": {},
   "source": [
    "### Use fancy indexing to extract even numbers from [1, 2, 3, 4, 5, 6]."
   ]
  },
  {
   "cell_type": "code",
   "execution_count": 16,
   "id": "e33244a3",
   "metadata": {},
   "outputs": [
    {
     "name": "stdout",
     "output_type": "stream",
     "text": [
      "[2 4 6]\n"
     ]
    }
   ],
   "source": [
    "natty_nums = np.array([1,2,3,4,5,6])\n",
    "even_nums = natty_nums[natty_nums % 2 == 0]\n",
    "print(even_nums)"
   ]
  },
  {
   "cell_type": "markdown",
   "id": "521f07f2",
   "metadata": {},
   "source": [
    "### Reshape a 1D array of size 9 into a 3×3 matrix."
   ]
  },
  {
   "cell_type": "code",
   "execution_count": 17,
   "id": "abd569d0",
   "metadata": {},
   "outputs": [
    {
     "name": "stdout",
     "output_type": "stream",
     "text": [
      "1\n",
      "[[1 2 3]\n",
      " [4 5 6]\n",
      " [7 8 9]]\n"
     ]
    }
   ],
   "source": [
    "one_d = np.array([1,2,3,4,5,6,7,8,9])\n",
    "print(one_d.ndim)\n",
    "three_x_three = one_d.reshape((3,3))\n",
    "print(three_x_three)"
   ]
  },
  {
   "cell_type": "markdown",
   "id": "e86c119d",
   "metadata": {},
   "source": [
    "### Use boolean masking to filter numbers greater than 50 in an array."
   ]
  },
  {
   "cell_type": "code",
   "execution_count": 18,
   "id": "187fc089",
   "metadata": {},
   "outputs": [
    {
     "name": "stdout",
     "output_type": "stream",
     "text": [
      "[ 60  70  80  90 100]\n"
     ]
    }
   ],
   "source": [
    "myarr = np.array([i*10 for i in range(1,11)])\n",
    "filter_fifty = myarr[myarr > 50]\n",
    "print(filter_fifty)"
   ]
  }
 ],
 "metadata": {
  "kernelspec": {
   "display_name": "base",
   "language": "python",
   "name": "python3"
  },
  "language_info": {
   "codemirror_mode": {
    "name": "ipython",
    "version": 3
   },
   "file_extension": ".py",
   "mimetype": "text/x-python",
   "name": "python",
   "nbconvert_exporter": "python",
   "pygments_lexer": "ipython3",
   "version": "3.12.7"
  }
 },
 "nbformat": 4,
 "nbformat_minor": 5
}
