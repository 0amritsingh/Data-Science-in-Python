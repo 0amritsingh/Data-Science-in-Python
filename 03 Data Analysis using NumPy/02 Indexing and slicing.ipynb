{
 "cells": [
  {
   "cell_type": "markdown",
   "id": "960c4e6f",
   "metadata": {},
   "source": [
    "# Indexing and slicing\n",
    "It is just like slicing of list in python"
   ]
  },
  {
   "cell_type": "code",
   "execution_count": 2,
   "id": "571bfc41",
   "metadata": {},
   "outputs": [],
   "source": [
    "import numpy as np\n",
    "\n",
    "arr = np.array([1,2,3,4,5,6,7,8,9,0])"
   ]
  },
  {
   "cell_type": "code",
   "execution_count": 4,
   "id": "e4f783af",
   "metadata": {},
   "outputs": [
    {
     "name": "stdout",
     "output_type": "stream",
     "text": [
      "1\n",
      "6\n"
     ]
    }
   ],
   "source": [
    "print(arr[0])\n",
    "print(arr[5])"
   ]
  },
  {
   "cell_type": "code",
   "execution_count": 6,
   "id": "1f2ff771",
   "metadata": {},
   "outputs": [
    {
     "name": "stdout",
     "output_type": "stream",
     "text": [
      "[4 5 6 7 8 9]\n"
     ]
    }
   ],
   "source": [
    "print(arr[3:9])"
   ]
  },
  {
   "cell_type": "code",
   "execution_count": 7,
   "id": "234b34b0",
   "metadata": {},
   "outputs": [
    {
     "name": "stdout",
     "output_type": "stream",
     "text": [
      "[1 2 3 4 5]\n"
     ]
    }
   ],
   "source": [
    "print(arr[:5]) # or arr[0:5]"
   ]
  },
  {
   "cell_type": "code",
   "execution_count": 8,
   "id": "5b738cb6",
   "metadata": {},
   "outputs": [
    {
     "name": "stdout",
     "output_type": "stream",
     "text": [
      "[5 6 7 8 9 0]\n"
     ]
    }
   ],
   "source": [
    "print(arr[4:]) # or arr[4:len(arr)]"
   ]
  },
  {
   "cell_type": "code",
   "execution_count": 9,
   "id": "01ddda79",
   "metadata": {},
   "outputs": [
    {
     "data": {
      "text/plain": [
       "10"
      ]
     },
     "execution_count": 9,
     "metadata": {},
     "output_type": "execute_result"
    }
   ],
   "source": [
    "len(arr)"
   ]
  },
  {
   "cell_type": "code",
   "execution_count": 10,
   "id": "01c29fb8",
   "metadata": {},
   "outputs": [
    {
     "data": {
      "text/plain": [
       "10"
      ]
     },
     "execution_count": 10,
     "metadata": {},
     "output_type": "execute_result"
    }
   ],
   "source": [
    "arr.size"
   ]
  },
  {
   "cell_type": "code",
   "execution_count": null,
   "id": "5cb7a9b5",
   "metadata": {},
   "outputs": [
    {
     "name": "stdout",
     "output_type": "stream",
     "text": [
      "[3 5 7]\n"
     ]
    }
   ],
   "source": [
    "print(arr[2:8:2]) # arr[start:stop:step] same as list"
   ]
  },
  {
   "cell_type": "code",
   "execution_count": null,
   "id": "7676c1e5",
   "metadata": {},
   "outputs": [
    {
     "name": "stdout",
     "output_type": "stream",
     "text": [
      "[0 9 8 7 6 5 4 3 2 1]\n"
     ]
    }
   ],
   "source": [
    "print(arr[::-1]) # printing reverse array"
   ]
  },
  {
   "cell_type": "code",
   "execution_count": null,
   "id": "16381c1d",
   "metadata": {},
   "outputs": [
    {
     "name": "stdout",
     "output_type": "stream",
     "text": [
      "[1 3 5 7 9]\n"
     ]
    }
   ],
   "source": [
    "print(arr[::2])"
   ]
  },
  {
   "cell_type": "markdown",
   "id": "90d17b0e",
   "metadata": {},
   "source": [
    "### Slicing returns a view, not a copy! Changes affect the original array. See example"
   ]
  },
  {
   "cell_type": "code",
   "execution_count": null,
   "id": "7cda6c71",
   "metadata": {},
   "outputs": [
    {
     "name": "stdout",
     "output_type": "stream",
     "text": [
      "[51 65 33]\n",
      "[555  65  33]\n",
      "[  1  24   4 555  65  33  27   0  91  13]\n"
     ]
    }
   ],
   "source": [
    "arr1 = np.array([1,24,4,51,65,33,27,0,91,13])\n",
    "\n",
    "arr2 = arr1[3:6]\n",
    "print(arr2) # make arr2 using 3 elements of arr1\n",
    "\n",
    "arr2[0] = 555\n",
    "print(arr2) # maked changes in arr2\n",
    "\n",
    "print(arr1) # but the changes can be seen in arr1 also\n",
    "\n",
    "# NOTE: this is becaue slicing in numpy arrays returns a preivew not a copy. So, the changes affects the original arrays too"
   ]
  },
  {
   "cell_type": "markdown",
   "id": "e470bc51",
   "metadata": {},
   "source": [
    " > Use `.copy()` if you need an independent copy.\n"
   ]
  },
  {
   "cell_type": "code",
   "execution_count": 29,
   "id": "2b4cd7cd",
   "metadata": {},
   "outputs": [
    {
     "name": "stdout",
     "output_type": "stream",
     "text": [
      "[32 45 64]\n",
      "[999  45  64]\n",
      "[ 1 31 22 32 45 64 23 64  2 39]\n"
     ]
    }
   ],
   "source": [
    "arr1 = np.array([1,31,22,32,45,64,23,64,2,39])\n",
    "\n",
    "arr2 = arr1[3:6].copy()\n",
    "print(arr2)\n",
    "\n",
    "arr2[0] = 999\n",
    "print(arr2)\n",
    "\n",
    "print(arr1)"
   ]
  },
  {
   "cell_type": "markdown",
   "id": "7332fc30",
   "metadata": {},
   "source": [
    "### Fancy Slicing and Boolean Masking"
   ]
  },
  {
   "cell_type": "code",
   "execution_count": 34,
   "id": "7266707c",
   "metadata": {},
   "outputs": [
    {
     "name": "stdout",
     "output_type": "stream",
     "text": [
      "[43 53  3]\n",
      "[342 435 234]\n"
     ]
    }
   ],
   "source": [
    "arr1 = np.array([12,32,43,342,6,2,53,435,234,3,34,84])\n",
    "\n",
    "# you can give a list of indexs to get particualar elements from the array\n",
    "print(arr1[[2,6,9]])\n",
    "\n",
    "# you can also apply a condition and filter elements from the array\n",
    "print(arr1[arr1 > 100])"
   ]
  }
 ],
 "metadata": {
  "kernelspec": {
   "display_name": "base",
   "language": "python",
   "name": "python3"
  },
  "language_info": {
   "codemirror_mode": {
    "name": "ipython",
    "version": 3
   },
   "file_extension": ".py",
   "mimetype": "text/x-python",
   "name": "python",
   "nbconvert_exporter": "python",
   "pygments_lexer": "ipython3",
   "version": "3.12.7"
  }
 },
 "nbformat": 4,
 "nbformat_minor": 5
}
