{
 "cells": [
  {
   "cell_type": "markdown",
   "id": "0c66700e",
   "metadata": {},
   "source": [
    "# Why NumPy?\n",
    "NumPy arrays are the core of numerical computing in Python. They are:\n",
    " - Faster than Python lists (C-optimized)\n",
    " - Memory-efficient (store data in a contiguous block)\n",
    " - Support vectorized operations that support SIMD (no slow Python loops)\n",
    " - Used in ML, Data Science, and AI"
   ]
  },
  {
   "cell_type": "markdown",
   "id": "d0923789",
   "metadata": {},
   "source": [
    "# NumPy Arrays"
   ]
  },
  {
   "cell_type": "markdown",
   "id": "1dc5fc11",
   "metadata": {},
   "source": [
    "##### 1. Creating arrays from list"
   ]
  },
  {
   "cell_type": "code",
   "execution_count": null,
   "id": "c7107b56",
   "metadata": {},
   "outputs": [
    {
     "name": "stdout",
     "output_type": "stream",
     "text": [
      "[1 2 3]\n",
      "[[1 2 3]\n",
      " [4 5 6]]\n"
     ]
    }
   ],
   "source": [
    "import numpy as np\n",
    "\n",
    "arr1 = np.array([1,2,3]) # 1D array\n",
    "print(arr1)\n",
    "\n",
    "arr2 = np.array([[1,2,3], [4,5,6]]) # 2D array\n",
    "print(arr2)"
   ]
  },
  {
   "cell_type": "markdown",
   "id": "648ace5f",
   "metadata": {},
   "source": [
    "##### 2. Creating arrays without list"
   ]
  },
  {
   "cell_type": "code",
   "execution_count": 14,
   "id": "a0ba6bbe",
   "metadata": {},
   "outputs": [
    {
     "name": "stdout",
     "output_type": "stream",
     "text": [
      "[[0. 0. 0.]\n",
      " [0. 0. 0.]]\n"
     ]
    }
   ],
   "source": [
    "arr = np.zeros((2,3))\n",
    "print(arr)"
   ]
  },
  {
   "cell_type": "code",
   "execution_count": 13,
   "id": "ed79ac50",
   "metadata": {},
   "outputs": [
    {
     "name": "stdout",
     "output_type": "stream",
     "text": [
      "[[1. 1. 1. 1.]\n",
      " [1. 1. 1. 1.]\n",
      " [1. 1. 1. 1.]]\n"
     ]
    }
   ],
   "source": [
    "arr = np.ones((3,4))\n",
    "print(arr)"
   ]
  },
  {
   "cell_type": "code",
   "execution_count": 16,
   "id": "d9a9ef50",
   "metadata": {},
   "outputs": [
    {
     "name": "stdout",
     "output_type": "stream",
     "text": [
      "[[3 3 3]\n",
      " [3 3 3]\n",
      " [3 3 3]\n",
      " [3 3 3]]\n"
     ]
    }
   ],
   "source": [
    "arr = np.full((4,3), 3)\n",
    "print(arr)"
   ]
  },
  {
   "cell_type": "code",
   "execution_count": null,
   "id": "7468a992",
   "metadata": {},
   "outputs": [
    {
     "name": "stdout",
     "output_type": "stream",
     "text": [
      "[[1. 0. 0.]\n",
      " [0. 1. 0.]\n",
      " [0. 0. 1.]]\n"
     ]
    }
   ],
   "source": [
    "arr = np.eye(3) # 3x3 identity matrix\n",
    "print(arr) # remember identity matrix is square matrix so only one arguement"
   ]
  },
  {
   "cell_type": "code",
   "execution_count": null,
   "id": "96768f98",
   "metadata": {},
   "outputs": [
    {
     "name": "stdout",
     "output_type": "stream",
     "text": [
      "[ 1  4  7 10 13]\n",
      "[1, 4, 7, 10, 13]\n"
     ]
    }
   ],
   "source": [
    "arr = np.arange(1,15, 3)\n",
    "print(arr)\n",
    "# let say this is np.arange(a, b, c)\n",
    "# so it will print a then it will add c to it then print it \n",
    "# all the way to b-1\n",
    "# its just like normal python range function\n",
    "ran = list(range(1,15,3)) # we say this (start, stop, step)\n",
    "print(ran)"
   ]
  },
  {
   "cell_type": "code",
   "execution_count": null,
   "id": "238a80c9",
   "metadata": {},
   "outputs": [
    {
     "name": "stdout",
     "output_type": "stream",
     "text": [
      "[0.    0.125 0.25  0.375 0.5   0.625 0.75  0.875 1.   ]\n"
     ]
    }
   ],
   "source": [
    "arr = np.linspace(0, 1, 9) # linspace(a, b, c) will create an 1D array of evenly divided a and b by c\n",
    "print(arr)"
   ]
  },
  {
   "cell_type": "markdown",
   "id": "ae4a002b",
   "metadata": {},
   "source": [
    "#### 3. Checking array propterties"
   ]
  },
  {
   "cell_type": "code",
   "execution_count": 39,
   "id": "dd3f1f49",
   "metadata": {},
   "outputs": [],
   "source": [
    "myarr = np.array([[1,2,3],[4,5,6],[7,8,9],[10,11,12]])"
   ]
  },
  {
   "cell_type": "code",
   "execution_count": 43,
   "id": "c2f6cf18",
   "metadata": {},
   "outputs": [
    {
     "data": {
      "text/plain": [
       "(4, 3)"
      ]
     },
     "execution_count": 43,
     "metadata": {},
     "output_type": "execute_result"
    }
   ],
   "source": [
    "myarr.shape\n",
    "# this gives a tuple that consist (rows, colums)"
   ]
  },
  {
   "cell_type": "code",
   "execution_count": 45,
   "id": "789138e4",
   "metadata": {},
   "outputs": [
    {
     "data": {
      "text/plain": [
       "2"
      ]
     },
     "execution_count": 45,
     "metadata": {},
     "output_type": "execute_result"
    }
   ],
   "source": [
    "myarr.ndim\n",
    "# this gives an int that tells the dimention of the array"
   ]
  },
  {
   "cell_type": "code",
   "execution_count": 47,
   "id": "142e3b8e",
   "metadata": {},
   "outputs": [
    {
     "data": {
      "text/plain": [
       "12"
      ]
     },
     "execution_count": 47,
     "metadata": {},
     "output_type": "execute_result"
    }
   ],
   "source": [
    "myarr.size\n",
    "# gives a int - total no of elements in the array"
   ]
  },
  {
   "cell_type": "code",
   "execution_count": 49,
   "id": "99ade445",
   "metadata": {},
   "outputs": [
    {
     "data": {
      "text/plain": [
       "dtype('int32')"
      ]
     },
     "execution_count": 49,
     "metadata": {},
     "output_type": "execute_result"
    }
   ],
   "source": [
    "myarr.dtype\n",
    "# tells the type of elements"
   ]
  },
  {
   "cell_type": "markdown",
   "id": "b32831bf",
   "metadata": {},
   "source": [
    "#### 4. Changing data type"
   ]
  },
  {
   "cell_type": "code",
   "execution_count": null,
   "id": "304accc4",
   "metadata": {},
   "outputs": [
    {
     "name": "stdout",
     "output_type": "stream",
     "text": [
      "[[1. 2. 3.]\n",
      " [4. 5. 6.]]\n",
      "float32\n"
     ]
    }
   ],
   "source": [
    "myarr2 = np.array([[1,2,3], [4,5,6]], dtype='float32') # changing explicitly (during the making of array)\n",
    "print(myarr2)\n",
    "print(myarr2.dtype)"
   ]
  },
  {
   "cell_type": "code",
   "execution_count": 55,
   "id": "6aefb9ed",
   "metadata": {},
   "outputs": [
    {
     "name": "stdout",
     "output_type": "stream",
     "text": [
      "[[1 2 3]\n",
      " [4 5 6]]\n",
      "int32\n"
     ]
    }
   ],
   "source": [
    "# if the array is alreay made and then we need to change it's type\n",
    "myarr2_int = myarr2.astype('int32')\n",
    "print(myarr2_int)\n",
    "print(myarr2_int.dtype)"
   ]
  },
  {
   "cell_type": "markdown",
   "id": "5cb7a436",
   "metadata": {},
   "source": [
    "#### 5. Reshaping and Flattening Arrays"
   ]
  },
  {
   "cell_type": "code",
   "execution_count": 60,
   "id": "efd1f308",
   "metadata": {},
   "outputs": [
    {
     "name": "stdout",
     "output_type": "stream",
     "text": [
      "(2, 3)\n"
     ]
    }
   ],
   "source": [
    "myarr3 = np.array([[1,2,3], [4,5,6]])\n",
    "a = myarr3.shape\n",
    "print(a)"
   ]
  },
  {
   "cell_type": "code",
   "execution_count": 59,
   "id": "dc604a36",
   "metadata": {},
   "outputs": [
    {
     "name": "stdout",
     "output_type": "stream",
     "text": [
      "[[1 2]\n",
      " [3 4]\n",
      " [5 6]]\n"
     ]
    }
   ],
   "source": [
    "b = myarr3.reshape((3,2)) # this will reshape the existing array by giving a tuple of size (i.e the mul of size is equal to the no of elements)\n",
    "print(b)"
   ]
  },
  {
   "cell_type": "code",
   "execution_count": null,
   "id": "8b04b779",
   "metadata": {},
   "outputs": [
    {
     "name": "stdout",
     "output_type": "stream",
     "text": [
      "[1 2 3 4 5 6]\n"
     ]
    }
   ],
   "source": [
    "c = myarr3.flatten() # converts 2D array to 1D\n",
    "print(c)"
   ]
  }
 ],
 "metadata": {
  "kernelspec": {
   "display_name": "base",
   "language": "python",
   "name": "python3"
  },
  "language_info": {
   "codemirror_mode": {
    "name": "ipython",
    "version": 3
   },
   "file_extension": ".py",
   "mimetype": "text/x-python",
   "name": "python",
   "nbconvert_exporter": "python",
   "pygments_lexer": "ipython3",
   "version": "3.12.7"
  }
 },
 "nbformat": 4,
 "nbformat_minor": 5
}
