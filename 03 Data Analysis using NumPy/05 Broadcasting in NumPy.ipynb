{
 "cells": [
  {
   "cell_type": "markdown",
   "id": "e3919948",
   "metadata": {},
   "source": [
    "### Loops are slow\n",
    "This is because Python's interpreter adds overhead, making iteration less efficient.\n"
   ]
  },
  {
   "cell_type": "code",
   "execution_count": 67,
   "id": "961f7b3b",
   "metadata": {},
   "outputs": [
    {
     "name": "stdout",
     "output_type": "stream",
     "text": [
      "[1, 4, 9, 16, 25, 36]\n"
     ]
    }
   ],
   "source": [
    "import numpy as np\n",
    "\n",
    "arr = np.array([1,2,3,4,5,6])\n",
    "result = []\n",
    "for i in arr:\n",
    "    result.append(i**2)\n",
    "print(result)"
   ]
  },
  {
   "cell_type": "markdown",
   "id": "94208653",
   "metadata": {},
   "source": [
    "### Vectorization\n",
    "It allows you to **apply operations to entire arrays at once**, greatly improving performance by utilizing NumPy’s optimized C backend."
   ]
  },
  {
   "cell_type": "code",
   "execution_count": 68,
   "id": "0c4b9a5f",
   "metadata": {},
   "outputs": [
    {
     "name": "stdout",
     "output_type": "stream",
     "text": [
      "[ 1  4  9 16 25 36]\n"
     ]
    }
   ],
   "source": [
    "arr = np.array([1,2,3,4,5,6])\n",
    "result = arr ** 2\n",
    "print(result)"
   ]
  },
  {
   "cell_type": "markdown",
   "id": "a0363455",
   "metadata": {},
   "source": [
    "# Broadcasting \n",
    "It enables operations between arrays of **different shapes** by automatically stretching the smaller array to match the shape of the larger array, without creating additional copies.\n"
   ]
  },
  {
   "cell_type": "code",
   "execution_count": 69,
   "id": "cfa931ae",
   "metadata": {},
   "outputs": [
    {
     "name": "stdout",
     "output_type": "stream",
     "text": [
      "[5 7 9]\n"
     ]
    }
   ],
   "source": [
    "# Example 1\n",
    "arr1 = np.array([1,2,3])\n",
    "arr2 = np.array([4,5,6])\n",
    "result = arr1 + arr2\n",
    "print(result)"
   ]
  },
  {
   "cell_type": "code",
   "execution_count": 70,
   "id": "2d900a97",
   "metadata": {},
   "outputs": [
    {
     "name": "stdout",
     "output_type": "stream",
     "text": [
      "[[ 5  7  9]\n",
      " [ 8 10 12]]\n"
     ]
    }
   ],
   "source": [
    "# Example 2\n",
    "# axis = 0 (rows)\n",
    "arr1 = np.array([1,2,3]) # shape: (1, 3)\n",
    "arr2 = np.array([[4,5,6], [7,8,9]]) # shape: (2, 3)\n",
    "result = arr1 + arr2\n",
    "print(result)"
   ]
  },
  {
   "cell_type": "code",
   "execution_count": 71,
   "id": "3787d11d",
   "metadata": {},
   "outputs": [
    {
     "name": "stdout",
     "output_type": "stream",
     "text": [
      "[[ 6  7  8]\n",
      " [ 9 10 11]]\n"
     ]
    }
   ],
   "source": [
    "# Example 3\n",
    "# axis = 1 (columns)\n",
    "arr1 = np.array([[2], [2]]) # shape: (2, 1)\n",
    "arr2 = np.array([[4,5,6], [7,8,9]]) # shape: (2, 3)\n",
    "result = arr1 + arr2\n",
    "print(result)"
   ]
  },
  {
   "cell_type": "markdown",
   "id": "23b59e88",
   "metadata": {},
   "source": [
    "### Real-world use\n",
    "Broadcasting can be used in data science tasks, such as normalizing datasets, without sacrificing memory or performance.\n"
   ]
  },
  {
   "cell_type": "code",
   "execution_count": 72,
   "id": "09deee4a",
   "metadata": {},
   "outputs": [
    {
     "name": "stdout",
     "output_type": "stream",
     "text": [
      "[[-1.41421356 -1.41421356 -1.41421356]\n",
      " [-0.70710678 -0.70710678 -0.70710678]\n",
      " [ 0.          0.          0.        ]\n",
      " [ 0.70710678  0.70710678  0.70710678]\n",
      " [ 1.41421356  1.41421356  1.41421356]]\n"
     ]
    }
   ],
   "source": [
    "# Simulating a dataset (5 samples, 3 features)\n",
    "data = np.array([[10, 20, 30],\n",
    "                 [15, 25, 35],\n",
    "                 [20, 30, 40],\n",
    "                 [25, 35, 45],\n",
    "                 [30, 40, 50]])\n",
    "\n",
    "# Calculating mean and standard deviation for each feature (column)\n",
    "mean = data.mean(axis=0)\n",
    "std = data.std(axis=0)\n",
    "# The above two lines are of Numpy's math tools, see in next lesson\n",
    "\n",
    "# Normalizing the data using broadcasting\n",
    "normalized_data = (data - mean) / std\n",
    "\n",
    "print(normalized_data)"
   ]
  }
 ],
 "metadata": {
  "kernelspec": {
   "display_name": "base",
   "language": "python",
   "name": "python3"
  },
  "language_info": {
   "codemirror_mode": {
    "name": "ipython",
    "version": 3
   },
   "file_extension": ".py",
   "mimetype": "text/x-python",
   "name": "python",
   "nbconvert_exporter": "python",
   "pygments_lexer": "ipython3",
   "version": "3.12.7"
  }
 },
 "nbformat": 4,
 "nbformat_minor": 5
}
