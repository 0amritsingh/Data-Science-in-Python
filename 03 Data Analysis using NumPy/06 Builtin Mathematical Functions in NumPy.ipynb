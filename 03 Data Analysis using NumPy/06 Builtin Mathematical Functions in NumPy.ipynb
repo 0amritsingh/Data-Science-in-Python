{
 "cells": [
  {
   "cell_type": "markdown",
   "id": "866d238a",
   "metadata": {},
   "source": [
    "# Built in Mathematical Functions in NumPy\n",
    "Here are some common NumPy methods that are frequently used for statistical and mathematical operations:\n",
    "\n",
    " - `np.mean()` – Compute the mean (average) of an array.\n",
    "\n",
    " - `np.std()` – Compute the standard deviation of an array.\n",
    "\n",
    " - `np.var()` – Compute the variance of an array.\n",
    "\n",
    " - `np.min()` – Compute the minimum value of an array.\n",
    "\n",
    " - `np.max()` – Compute the maximum value of an array.\n",
    "\n",
    " - `np.sum()` – Compute the sum of all elements in an array.\n",
    "\n",
    " - `np.prod()` – Compute the product of all elements in an array.\n",
    "\n",
    " - `np.median()` – Compute the median of an array.\n",
    "\n",
    " - `np.percentile()` – Compute the percentile of an array.\n",
    "\n",
    " - `np.argmin()` – Return the index of the minimum value in an array.\n",
    "\n",
    " - `np.argmax()` – Return the index of the maximum value in an array.\n",
    "\n",
    " - `np.corrcoef()` – Compute the correlation coefficient matrix of two arrays.\n",
    "\n",
    " - `np.unique()` – Find the unique elements of an array.\n",
    "\n",
    " - `np.diff()` – Compute the n-th differences of an array.\n",
    "\n",
    " - `np.cumsum()` – Compute the cumulative sum of an array.\n",
    "\n",
    " - `np.linspace()` – Create an array with evenly spaced numbers over a specified interval.\n",
    "\n",
    " - `np.log()` – Compute the natural logarithm of an array.\n",
    "\n",
    " - `np.exp()` – Compute the exponential of an array.\n",
    "\n",
    " > These methods are used for performing mathematical and statistical operations with NumPy"
   ]
  },
  {
   "cell_type": "code",
   "execution_count": null,
   "id": "0188b70f",
   "metadata": {},
   "outputs": [],
   "source": []
  }
 ],
 "metadata": {
  "kernelspec": {
   "display_name": "base",
   "language": "python",
   "name": "python3"
  },
  "language_info": {
   "name": "python",
   "version": "3.12.7"
  }
 },
 "nbformat": 4,
 "nbformat_minor": 5
}
