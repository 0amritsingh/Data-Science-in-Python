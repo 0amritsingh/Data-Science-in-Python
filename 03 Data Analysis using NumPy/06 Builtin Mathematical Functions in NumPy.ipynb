{
 "cells": [
  {
   "cell_type": "markdown",
   "id": "866d238a",
   "metadata": {},
   "source": [
    "# Built in Mathematical Functions in NumPy\n",
    "Here are some common NumPy methods that are frequently used for statistical and mathematical operations:\n",
    "\n",
    " - `np.mean()` – Compute the **mean** (average) of an array.\n",
    "\n",
    " - `np.std()` – Compute the **standard deviation** of an array.\n",
    "\n",
    " - `np.var()` – Compute the **variance** of an array.\n",
    "\n",
    " - `np.min()` – Compute the **minimum value** of an array.\n",
    "\n",
    " - `np.max()` – Compute the **maximum value** of an array.\n",
    "\n",
    " - `np.sum()` – Compute the **sum** of all elements in an array.\n",
    "\n",
    " - `np.prod()` – Compute the **product** of all elements in an array.\n",
    "\n",
    " - `np.median()` – Compute the **median** of an array.\n",
    "\n",
    " - `np.percentile()` – Compute the **percentile** of an array.\n",
    "\n",
    " - `np.argmin()` – Return the **index** of the **minimum value** in an array.\n",
    "\n",
    " - `np.argmax()` – Return the **index** of the **maximum value** in an array.\n",
    "\n",
    " - `np.corrcoef()` – Compute the **correlation coefficient** matrix of two arrays.\n",
    "\n",
    " - `np.unique()` – Find the **unique** elements of an array.\n",
    "\n",
    " - `np.diff()` – Compute the **n-th differences** of an array.\n",
    "\n",
    " - `np.cumsum()` – Compute the **cumulative sum** of an array.\n",
    "\n",
    " - `np.linspace()` – Create an array with **evenly spaced** numbers over a specified interval.\n",
    "\n",
    " - `np.log()` – Compute the **natural logarithm** of an array.\n",
    "\n",
    " - `np.exp()` – Compute the **exponential** of an array.\n",
    "\n",
    " > These methods are used for performing mathematical and statistical operations with NumPy"
   ]
  },
  {
   "cell_type": "code",
   "execution_count": 9,
   "id": "0188b70f",
   "metadata": {},
   "outputs": [
    {
     "name": "stdout",
     "output_type": "stream",
     "text": [
      "[2.71828183e+00 7.38905610e+00 2.00855369e+01 5.45981500e+01\n",
      " 1.48413159e+02 2.20264658e+04]\n"
     ]
    }
   ],
   "source": [
    "import numpy as np\n",
    "\n",
    "arr = np.array([1,2,3,4,5, 10])\n",
    "print(np.exp(arr))"
   ]
  },
  {
   "cell_type": "markdown",
   "id": "3809aa1f",
   "metadata": {},
   "source": [
    "#### Alright so most of them I know and I've practiced it but there few topics that I didn't get and those are:\n",
    "1. varience\n",
    "2. standerd deviation\n",
    "3. correlation coefficient\n",
    "4. n-th difference\n",
    " > I'll learn the concepts of class 11 statictis and also then I'll understand these four methods also."
   ]
  },
  {
   "cell_type": "markdown",
   "id": "b007c527",
   "metadata": {},
   "source": []
  }
 ],
 "metadata": {
  "kernelspec": {
   "display_name": "base",
   "language": "python",
   "name": "python3"
  },
  "language_info": {
   "codemirror_mode": {
    "name": "ipython",
    "version": 3
   },
   "file_extension": ".py",
   "mimetype": "text/x-python",
   "name": "python",
   "nbconvert_exporter": "python",
   "pygments_lexer": "ipython3",
   "version": "3.12.7"
  }
 },
 "nbformat": 4,
 "nbformat_minor": 5
}
