{
 "cells": [
  {
   "cell_type": "markdown",
   "id": "4bb395a7",
   "metadata": {},
   "source": [
    "# Multidimensional Indexing and Axis\n",
    "NumPy allows you to efficiently work with multidimensional arrays, where indexing and axis manipulation play a crucial role. Understanding how indexing works across multiple dimensions is essential for data science and machine learning tasks.\n",
    "\n",
    "### Understanding Axes in NumPy\n",
    "Each dimension in a NumPy array is called an axis. Axes are numbered starting from 0.\n",
    "\n",
    "For example:\n",
    " - **1D** array - 1 axis (axis 0)\n",
    " - **2D** array - 2 axes (axis 0 = rows, axis 1 = columns)\n",
    " - **3D** array - 3 axes (axis 0 = depth, axis 1 = rows, axis 2 = columns)"
   ]
  },
  {
   "cell_type": "markdown",
   "id": "5c5cc8cd",
   "metadata": {},
   "source": [
    "### 2D array: Axis and indexing"
   ]
  },
  {
   "cell_type": "code",
   "execution_count": 1,
   "id": "be7b0b97",
   "metadata": {},
   "outputs": [
    {
     "name": "stdout",
     "output_type": "stream",
     "text": [
      "(4,)\n"
     ]
    }
   ],
   "source": [
    "import numpy as np\n",
    "\n",
    "arr1D = np.array(\n",
    "    [1,2,3,4]\n",
    "    ) # we've seen slicing and indexing in 1D alreay. Now, 2D and 3D\n",
    "\n",
    "print(arr1D.shape)"
   ]
  },
  {
   "cell_type": "code",
   "execution_count": 2,
   "id": "3b91c291",
   "metadata": {},
   "outputs": [
    {
     "name": "stdout",
     "output_type": "stream",
     "text": [
      "(3, 4)\n"
     ]
    }
   ],
   "source": [
    "arr2D = np.array(\n",
    "    [[1,2,3,4],\n",
    "     [5,6,7,8],\n",
    "     [9,10,11,12]]\n",
    ")\n",
    "\n",
    "print(arr2D.shape)"
   ]
  },
  {
   "cell_type": "code",
   "execution_count": 3,
   "id": "4e497a06",
   "metadata": {},
   "outputs": [
    {
     "name": "stdout",
     "output_type": "stream",
     "text": [
      "[1 2 3 4]\n",
      "[5 6 7 8]\n",
      "[ 9 10 11 12]\n"
     ]
    }
   ],
   "source": [
    "# indexing\n",
    "print(arr2D[0]) \n",
    "print(arr2D[1])\n",
    "print(arr2D[2])"
   ]
  },
  {
   "cell_type": "code",
   "execution_count": 4,
   "id": "23b390e0",
   "metadata": {},
   "outputs": [
    {
     "name": "stdout",
     "output_type": "stream",
     "text": [
      "3\n",
      "3\n",
      "[[2 3]\n",
      " [6 7]]\n"
     ]
    }
   ],
   "source": [
    "# Slicing\n",
    "print(arr2D[0][2]) # or\n",
    "print(arr2D[0,2]) # and also\n",
    "print(arr2D[0:2, 1:3])"
   ]
  },
  {
   "cell_type": "code",
   "execution_count": 5,
   "id": "cced64c6",
   "metadata": {},
   "outputs": [
    {
     "name": "stdout",
     "output_type": "stream",
     "text": [
      "[15 18 21 24]\n",
      "[10 26 42]\n"
     ]
    }
   ],
   "source": [
    "# summation along axis\n",
    "print(np.sum(arr2D, axis=0))\n",
    "print(np.sum(arr2D, axis=1))\n",
    "# Axis 0 (rows): Operations move down the columns.\n",
    "# Axis 1 (columns): Operations move across the rows."
   ]
  },
  {
   "cell_type": "markdown",
   "id": "3ae4db46",
   "metadata": {},
   "source": [
    "### 3D array: axis and indexing"
   ]
  },
  {
   "cell_type": "code",
   "execution_count": 6,
   "id": "b44c68d5",
   "metadata": {},
   "outputs": [
    {
     "name": "stdout",
     "output_type": "stream",
     "text": [
      "(2, 2, 3)\n"
     ]
    }
   ],
   "source": [
    "arr3D = np.array(\n",
    "    [[[1,2,3],\n",
    "     [4,5,6]],\n",
    "\n",
    "    [[7,8,9],\n",
    "     [10,11,12]]]\n",
    ")\n",
    "\n",
    "print(arr3D.shape)\n",
    "# 3D array has deapth, rows and column"
   ]
  },
  {
   "cell_type": "code",
   "execution_count": 7,
   "id": "4c78e2ff",
   "metadata": {},
   "outputs": [
    {
     "name": "stdout",
     "output_type": "stream",
     "text": [
      "9\n",
      "[[1 2 3]\n",
      " [7 8 9]]\n"
     ]
    }
   ],
   "source": [
    "# indexing\n",
    "print(arr3D[1,0,2])\n",
    "\n",
    "# slicing\n",
    "print(arr3D[:, 0, :])"
   ]
  },
  {
   "cell_type": "markdown",
   "id": "0f16d020",
   "metadata": {},
   "source": [
    "### Changing data"
   ]
  },
  {
   "cell_type": "code",
   "execution_count": 8,
   "id": "c4a3dceb",
   "metadata": {},
   "outputs": [
    {
     "name": "stdout",
     "output_type": "stream",
     "text": [
      "[[[ 1  2  3]\n",
      "  [ 4  5  6]]\n",
      "\n",
      " [[ 7 88  9]\n",
      "  [10 11 12]]]\n",
      "[[[ 1  2  3]\n",
      "  [ 0  0  0]]\n",
      "\n",
      " [[ 7 88  9]\n",
      "  [10 11 12]]]\n",
      "[[ 1  2  0  4]\n",
      " [ 5  6  0  8]\n",
      " [ 9 10  0 12]]\n"
     ]
    }
   ],
   "source": [
    "arr3D[1,0,1] = 88 # change a single element\n",
    "print(arr3D)\n",
    "\n",
    "arr3D[0,1] = [0,0,0] # change whole row\n",
    "print(arr3D)\n",
    "\n",
    "arr2D[:, 2] = 0 # change that apply to multiple rows\n",
    "print(arr2D)"
   ]
  }
 ],
 "metadata": {
  "kernelspec": {
   "display_name": "base",
   "language": "python",
   "name": "python3"
  },
  "language_info": {
   "codemirror_mode": {
    "name": "ipython",
    "version": 3
   },
   "file_extension": ".py",
   "mimetype": "text/x-python",
   "name": "python",
   "nbconvert_exporter": "python",
   "pygments_lexer": "ipython3",
   "version": "3.12.7"
  }
 },
 "nbformat": 4,
 "nbformat_minor": 5
}
