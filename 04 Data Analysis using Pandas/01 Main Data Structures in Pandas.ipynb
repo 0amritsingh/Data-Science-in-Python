{
 "cells": [
  {
   "cell_type": "markdown",
   "id": "59e2194d",
   "metadata": {},
   "source": [
    "## 1D Data Structure in Pandas: SERIES\n",
    "It's like python dict but faster and much more "
   ]
  },
  {
   "cell_type": "code",
   "execution_count": 1,
   "id": "277fd242",
   "metadata": {},
   "outputs": [
    {
     "name": "stdout",
     "output_type": "stream",
     "text": [
      "0    82\n",
      "1    93\n",
      "2    94\n",
      "3    87\n",
      "4    45\n",
      "dtype: int64\n",
      "RangeIndex(start=0, stop=5, step=1)\n"
     ]
    }
   ],
   "source": [
    "import pandas as pd\n",
    "\n",
    "sr = pd.Series([82,93,94,87,45])\n",
    "print(sr)\n",
    "print(sr.index) # you can print it's index as well"
   ]
  },
  {
   "cell_type": "markdown",
   "id": "0e0d90b3",
   "metadata": {},
   "source": [
    "You can also change the index"
   ]
  },
  {
   "cell_type": "code",
   "execution_count": 2,
   "id": "fb848246",
   "metadata": {},
   "outputs": [
    {
     "name": "stdout",
     "output_type": "stream",
     "text": [
      "Maths               82\n",
      "Physics             93\n",
      "Chemistry           94\n",
      "English             87\n",
      "Computer Science    45\n",
      "dtype: int64\n",
      "Index(['Maths', 'Physics', 'Chemistry', 'English', 'Computer Science'], dtype='object')\n"
     ]
    }
   ],
   "source": [
    "sr2 = pd.Series([82,93,94,87,45], index=['Maths', 'Physics', 'Chemistry', 'English', 'Computer Science'])\n",
    "print(sr2)\n",
    "print(sr2.index)"
   ]
  },
  {
   "cell_type": "markdown",
   "id": "7eabb062",
   "metadata": {},
   "source": [
    "## 2D Data Stucture in Pandas: DataFrame\n",
    "It's like excel spredsheet or MySQL table"
   ]
  },
  {
   "cell_type": "code",
   "execution_count": 3,
   "id": "454b8980",
   "metadata": {},
   "outputs": [
    {
     "name": "stdout",
     "output_type": "stream",
     "text": [
      "       Name  Marks\n",
      "0     Amrit     89\n",
      "1     Manav     34\n",
      "2     Dhruv     67\n",
      "3  Digvijay     54\n"
     ]
    }
   ],
   "source": [
    "data = {\n",
    "    'Name': ['Amrit', 'Manav', 'Dhruv', 'Digvijay'],\n",
    "    'Marks': [89, 34, 67, 54]\n",
    "}\n",
    "df = pd.DataFrame(data)\n",
    "print(df)"
   ]
  },
  {
   "cell_type": "markdown",
   "id": "a05b4018",
   "metadata": {},
   "source": [
    "You can print index and columns"
   ]
  },
  {
   "cell_type": "code",
   "execution_count": 4,
   "id": "4c8514a1",
   "metadata": {},
   "outputs": [
    {
     "name": "stdout",
     "output_type": "stream",
     "text": [
      "RangeIndex(start=0, stop=4, step=1)\n",
      "Index(['Name', 'Marks'], dtype='object')\n"
     ]
    }
   ],
   "source": [
    "print(df.index)\n",
    "print(df.columns)"
   ]
  },
  {
   "cell_type": "markdown",
   "id": "94cd6b19",
   "metadata": {},
   "source": [
    "You can change them as well"
   ]
  },
  {
   "cell_type": "code",
   "execution_count": 5,
   "id": "619315e1",
   "metadata": {},
   "outputs": [
    {
     "name": "stdout",
     "output_type": "stream",
     "text": [
      "     Student  Grades\n",
      "a.     Amrit      89\n",
      "b.     Manav      34\n",
      "c.     Dhruv      67\n",
      "d.  Digvijay      54\n"
     ]
    }
   ],
   "source": [
    "df.index =['a.', 'b.', 'c.', 'd.']\n",
    "df.columns = ['Student', 'Grades']\n",
    "print(df)"
   ]
  }
 ],
 "metadata": {
  "kernelspec": {
   "display_name": "base",
   "language": "python",
   "name": "python3"
  },
  "language_info": {
   "codemirror_mode": {
    "name": "ipython",
    "version": 3
   },
   "file_extension": ".py",
   "mimetype": "text/x-python",
   "name": "python",
   "nbconvert_exporter": "python",
   "pygments_lexer": "ipython3",
   "version": "3.12.7"
  }
 },
 "nbformat": 4,
 "nbformat_minor": 5
}
