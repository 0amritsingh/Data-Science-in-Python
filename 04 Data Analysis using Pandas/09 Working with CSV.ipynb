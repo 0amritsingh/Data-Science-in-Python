{
 "cells": [
  {
   "cell_type": "markdown",
   "id": "03bd240d-8a44-49a2-a1af-d60a044217b0",
   "metadata": {},
   "source": [
    "# Reading & Writing Files in Pandas\n",
    "\n",
    "## CSV Files\n",
    "\n",
    "### Read CSV\n",
    "```python\n",
    "df = pd.read_csv(\"data.csv\")\n",
    "```\n",
    "\n",
    "Options:\n",
    "```python\n",
    "pd.read_csv(\"data.csv\", usecols=[\"Name\", \"Age\"], nrows=10)\n",
    "```\n",
    "\n",
    "### Write CSV\n",
    "```python\n",
    "df.to_csv(\"output.csv\", index=False)\n",
    "```\n",
    "\n",
    "---\n",
    "\n",
    "## Excel Files\n",
    "\n",
    "### Read Excel\n",
    "```python\n",
    "df = pd.read_excel(\"data.xlsx\")\n",
    "```\n",
    "\n",
    "Options:\n",
    "```python\n",
    "pd.read_excel(\"data.xlsx\", sheet_name=\"Sales\")\n",
    "```\n",
    "\n",
    "### Write Excel\n",
    "```python\n",
    "df.to_excel(\"output.xlsx\", index=False)\n",
    "```\n",
    "\n",
    "Multiple sheets:\n",
    "```python\n",
    "with pd.ExcelWriter(\"report.xlsx\") as writer:\n",
    "    df1.to_excel(writer, sheet_name=\"Summary\", index=False)\n",
    "    df2.to_excel(writer, sheet_name=\"Details\", index=False)\n",
    "```\n",
    "\n",
    "---\n",
    "\n",
    "## JSON Files\n",
    "\n",
    "### Read JSON\n",
    "```python\n",
    "df = pd.read_json(\"data.json\")\n",
    "```\n",
    "\n",
    "\n",
    "## Summary\n",
    "\n",
    "- `read_*` and `to_*` methods for CSV, Excel, JSON\n",
    "- Use `sheet_name` for Excel \n",
    " "
   ]
  },
  {
   "cell_type": "code",
   "execution_count": 13,
   "id": "e7c5fdfd-99b1-406c-8b73-7ffd15303612",
   "metadata": {},
   "outputs": [],
   "source": [
    "import pandas as pd"
   ]
  },
  {
   "cell_type": "code",
   "execution_count": 14,
   "id": "6ac5bae9-5ea0-4518-9ba5-4596c568828f",
   "metadata": {},
   "outputs": [],
   "source": [
    "df = pd.read_csv(\"data.csv\")"
   ]
  },
  {
   "cell_type": "code",
   "execution_count": 15,
   "id": "bcca9901-f9d1-4cbe-87cf-5aef10fa2d04",
   "metadata": {},
   "outputs": [
    {
     "data": {
      "text/html": [
       "<div>\n",
       "<style scoped>\n",
       "    .dataframe tbody tr th:only-of-type {\n",
       "        vertical-align: middle;\n",
       "    }\n",
       "\n",
       "    .dataframe tbody tr th {\n",
       "        vertical-align: top;\n",
       "    }\n",
       "\n",
       "    .dataframe thead th {\n",
       "        text-align: right;\n",
       "    }\n",
       "</style>\n",
       "<table border=\"1\" class=\"dataframe\">\n",
       "  <thead>\n",
       "    <tr style=\"text-align: right;\">\n",
       "      <th></th>\n",
       "      <th>ID</th>\n",
       "      <th>Temperature</th>\n",
       "      <th>Status</th>\n",
       "    </tr>\n",
       "  </thead>\n",
       "  <tbody>\n",
       "    <tr>\n",
       "      <th>0</th>\n",
       "      <td>101</td>\n",
       "      <td>36.7</td>\n",
       "      <td>Normal</td>\n",
       "    </tr>\n",
       "    <tr>\n",
       "      <th>1</th>\n",
       "      <td>102</td>\n",
       "      <td>38.2</td>\n",
       "      <td>Fever</td>\n",
       "    </tr>\n",
       "    <tr>\n",
       "      <th>2</th>\n",
       "      <td>103</td>\n",
       "      <td>35.9</td>\n",
       "      <td>Normal</td>\n",
       "    </tr>\n",
       "    <tr>\n",
       "      <th>3</th>\n",
       "      <td>104</td>\n",
       "      <td>39.0</td>\n",
       "      <td>Fever</td>\n",
       "    </tr>\n",
       "    <tr>\n",
       "      <th>4</th>\n",
       "      <td>105</td>\n",
       "      <td>37.1</td>\n",
       "      <td>Normal</td>\n",
       "    </tr>\n",
       "    <tr>\n",
       "      <th>5</th>\n",
       "      <td>106</td>\n",
       "      <td>38.7</td>\n",
       "      <td>Fever</td>\n",
       "    </tr>\n",
       "  </tbody>\n",
       "</table>\n",
       "</div>"
      ],
      "text/plain": [
       "    ID  Temperature  Status\n",
       "0  101         36.7  Normal\n",
       "1  102         38.2   Fever\n",
       "2  103         35.9  Normal\n",
       "3  104         39.0   Fever\n",
       "4  105         37.1  Normal\n",
       "5  106         38.7   Fever"
      ]
     },
     "execution_count": 15,
     "metadata": {},
     "output_type": "execute_result"
    }
   ],
   "source": [
    "df"
   ]
  },
  {
   "cell_type": "code",
   "execution_count": 16,
   "id": "64c6688c-e9e4-4636-a60f-886be602c091",
   "metadata": {},
   "outputs": [],
   "source": [
    "df = df[df['Temperature']>6.0]\n"
   ]
  },
  {
   "cell_type": "code",
   "execution_count": 17,
   "id": "e5cec238-9a6f-444c-8c9f-245e6dd820bd",
   "metadata": {},
   "outputs": [
    {
     "data": {
      "text/html": [
       "<div>\n",
       "<style scoped>\n",
       "    .dataframe tbody tr th:only-of-type {\n",
       "        vertical-align: middle;\n",
       "    }\n",
       "\n",
       "    .dataframe tbody tr th {\n",
       "        vertical-align: top;\n",
       "    }\n",
       "\n",
       "    .dataframe thead th {\n",
       "        text-align: right;\n",
       "    }\n",
       "</style>\n",
       "<table border=\"1\" class=\"dataframe\">\n",
       "  <thead>\n",
       "    <tr style=\"text-align: right;\">\n",
       "      <th></th>\n",
       "      <th>ID</th>\n",
       "      <th>Temperature</th>\n",
       "      <th>Status</th>\n",
       "    </tr>\n",
       "  </thead>\n",
       "  <tbody>\n",
       "    <tr>\n",
       "      <th>0</th>\n",
       "      <td>101</td>\n",
       "      <td>36.7</td>\n",
       "      <td>Normal</td>\n",
       "    </tr>\n",
       "    <tr>\n",
       "      <th>1</th>\n",
       "      <td>102</td>\n",
       "      <td>38.2</td>\n",
       "      <td>Fever</td>\n",
       "    </tr>\n",
       "    <tr>\n",
       "      <th>2</th>\n",
       "      <td>103</td>\n",
       "      <td>35.9</td>\n",
       "      <td>Normal</td>\n",
       "    </tr>\n",
       "    <tr>\n",
       "      <th>3</th>\n",
       "      <td>104</td>\n",
       "      <td>39.0</td>\n",
       "      <td>Fever</td>\n",
       "    </tr>\n",
       "    <tr>\n",
       "      <th>4</th>\n",
       "      <td>105</td>\n",
       "      <td>37.1</td>\n",
       "      <td>Normal</td>\n",
       "    </tr>\n",
       "    <tr>\n",
       "      <th>5</th>\n",
       "      <td>106</td>\n",
       "      <td>38.7</td>\n",
       "      <td>Fever</td>\n",
       "    </tr>\n",
       "  </tbody>\n",
       "</table>\n",
       "</div>"
      ],
      "text/plain": [
       "    ID  Temperature  Status\n",
       "0  101         36.7  Normal\n",
       "1  102         38.2   Fever\n",
       "2  103         35.9  Normal\n",
       "3  104         39.0   Fever\n",
       "4  105         37.1  Normal\n",
       "5  106         38.7   Fever"
      ]
     },
     "execution_count": 17,
     "metadata": {},
     "output_type": "execute_result"
    }
   ],
   "source": [
    "df"
   ]
  },
  {
   "cell_type": "code",
   "execution_count": 18,
   "id": "20d0fbd3-3e02-40bc-94cc-59258073a2e0",
   "metadata": {},
   "outputs": [],
   "source": [
    "df.to_csv(\"data_updated.csv\", index=False)"
   ]
  },
  {
   "cell_type": "code",
   "execution_count": 19,
   "id": "1a0c63dd-503b-4c45-9659-69ce9c43ae68",
   "metadata": {},
   "outputs": [],
   "source": [
    "df = pd.read_json(\"my.json\")\n",
    " "
   ]
  },
  {
   "cell_type": "code",
   "execution_count": 20,
   "id": "220f9d15-0247-43ef-95a0-6dd135900165",
   "metadata": {},
   "outputs": [
    {
     "data": {
      "text/html": [
       "<div>\n",
       "<style scoped>\n",
       "    .dataframe tbody tr th:only-of-type {\n",
       "        vertical-align: middle;\n",
       "    }\n",
       "\n",
       "    .dataframe tbody tr th {\n",
       "        vertical-align: top;\n",
       "    }\n",
       "\n",
       "    .dataframe thead th {\n",
       "        text-align: right;\n",
       "    }\n",
       "</style>\n",
       "<table border=\"1\" class=\"dataframe\">\n",
       "  <thead>\n",
       "    <tr style=\"text-align: right;\">\n",
       "      <th></th>\n",
       "      <th>id</th>\n",
       "      <th>name</th>\n",
       "      <th>address</th>\n",
       "    </tr>\n",
       "  </thead>\n",
       "  <tbody>\n",
       "    <tr>\n",
       "      <th>0</th>\n",
       "      <td>1</td>\n",
       "      <td>Alice</td>\n",
       "      <td>{'city': 'Delhi', 'zipcode': '110001'}</td>\n",
       "    </tr>\n",
       "    <tr>\n",
       "      <th>1</th>\n",
       "      <td>2</td>\n",
       "      <td>Bob</td>\n",
       "      <td>{'city': 'Mumbai', 'zipcode': '400001'}</td>\n",
       "    </tr>\n",
       "  </tbody>\n",
       "</table>\n",
       "</div>"
      ],
      "text/plain": [
       "   id   name                                  address\n",
       "0   1  Alice   {'city': 'Delhi', 'zipcode': '110001'}\n",
       "1   2    Bob  {'city': 'Mumbai', 'zipcode': '400001'}"
      ]
     },
     "execution_count": 20,
     "metadata": {},
     "output_type": "execute_result"
    }
   ],
   "source": [
    "df"
   ]
  },
  {
   "cell_type": "code",
   "execution_count": 21,
   "id": "0b815680-c761-454f-9005-64a1a01ebac9",
   "metadata": {},
   "outputs": [
    {
     "name": "stdout",
     "output_type": "stream",
     "text": [
      "<class 'pandas.core.frame.DataFrame'>\n",
      "RangeIndex: 2 entries, 0 to 1\n",
      "Data columns (total 3 columns):\n",
      " #   Column   Non-Null Count  Dtype \n",
      "---  ------   --------------  ----- \n",
      " 0   id       2 non-null      int64 \n",
      " 1   name     2 non-null      object\n",
      " 2   address  2 non-null      object\n",
      "dtypes: int64(1), object(2)\n",
      "memory usage: 180.0+ bytes\n"
     ]
    }
   ],
   "source": [
    "df.info()"
   ]
  },
  {
   "cell_type": "code",
   "execution_count": 22,
   "id": "8a9a078c-b8b0-4e0a-86d8-f1d6fd34dc10",
   "metadata": {},
   "outputs": [],
   "source": [
    "data = [\n",
    "    {\"id\": 1, \"name\": \"Alice\", \"address\": {\"city\": \"Delhi\", \"zipcode\": \"110001\"}},\n",
    "    {\"id\": 2, \"name\": \"Bob\", \"address\": {\"city\": \"Mumbai\", \"zipcode\": \"400001\"}}\n",
    "]"
   ]
  },
  {
   "cell_type": "code",
   "execution_count": 23,
   "id": "b52f9b6c-5bbd-4bf6-9eb0-16f228d6d831",
   "metadata": {},
   "outputs": [],
   "source": [
    "df = pd.json_normalize(data)"
   ]
  },
  {
   "cell_type": "code",
   "execution_count": 24,
   "id": "db34173d-ac35-4b93-bf09-5677a05597bf",
   "metadata": {},
   "outputs": [
    {
     "data": {
      "text/html": [
       "<div>\n",
       "<style scoped>\n",
       "    .dataframe tbody tr th:only-of-type {\n",
       "        vertical-align: middle;\n",
       "    }\n",
       "\n",
       "    .dataframe tbody tr th {\n",
       "        vertical-align: top;\n",
       "    }\n",
       "\n",
       "    .dataframe thead th {\n",
       "        text-align: right;\n",
       "    }\n",
       "</style>\n",
       "<table border=\"1\" class=\"dataframe\">\n",
       "  <thead>\n",
       "    <tr style=\"text-align: right;\">\n",
       "      <th></th>\n",
       "      <th>id</th>\n",
       "      <th>name</th>\n",
       "      <th>address.city</th>\n",
       "      <th>address.zipcode</th>\n",
       "    </tr>\n",
       "  </thead>\n",
       "  <tbody>\n",
       "    <tr>\n",
       "      <th>0</th>\n",
       "      <td>1</td>\n",
       "      <td>Alice</td>\n",
       "      <td>Delhi</td>\n",
       "      <td>110001</td>\n",
       "    </tr>\n",
       "    <tr>\n",
       "      <th>1</th>\n",
       "      <td>2</td>\n",
       "      <td>Bob</td>\n",
       "      <td>Mumbai</td>\n",
       "      <td>400001</td>\n",
       "    </tr>\n",
       "  </tbody>\n",
       "</table>\n",
       "</div>"
      ],
      "text/plain": [
       "   id   name address.city address.zipcode\n",
       "0   1  Alice        Delhi          110001\n",
       "1   2    Bob       Mumbai          400001"
      ]
     },
     "execution_count": 24,
     "metadata": {},
     "output_type": "execute_result"
    }
   ],
   "source": [
    "df"
   ]
  },
  {
   "cell_type": "code",
   "execution_count": 25,
   "id": "4f809a0c-5652-4c6b-bb16-45fc4fda5e06",
   "metadata": {},
   "outputs": [
    {
     "name": "stdout",
     "output_type": "stream",
     "text": [
      "<class 'pandas.core.frame.DataFrame'>\n",
      "RangeIndex: 2 entries, 0 to 1\n",
      "Data columns (total 4 columns):\n",
      " #   Column           Non-Null Count  Dtype \n",
      "---  ------           --------------  ----- \n",
      " 0   id               2 non-null      int64 \n",
      " 1   name             2 non-null      object\n",
      " 2   address.city     2 non-null      object\n",
      " 3   address.zipcode  2 non-null      object\n",
      "dtypes: int64(1), object(3)\n",
      "memory usage: 196.0+ bytes\n"
     ]
    }
   ],
   "source": [
    "df.info()"
   ]
  },
  {
   "cell_type": "code",
   "execution_count": null,
   "id": "9e6066f6-3336-46ca-867c-ccf497226bb0",
   "metadata": {},
   "outputs": [],
   "source": []
  }
 ],
 "metadata": {
  "kernelspec": {
   "display_name": "base",
   "language": "python",
   "name": "python3"
  },
  "language_info": {
   "codemirror_mode": {
    "name": "ipython",
    "version": 3
   },
   "file_extension": ".py",
   "mimetype": "text/x-python",
   "name": "python",
   "nbconvert_exporter": "python",
   "pygments_lexer": "ipython3",
   "version": "3.12.7"
  }
 },
 "nbformat": 4,
 "nbformat_minor": 5
}
